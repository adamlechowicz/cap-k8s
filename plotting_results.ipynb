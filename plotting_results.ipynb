{
 "cells": [
  {
   "cell_type": "code",
   "execution_count": 59,
   "metadata": {},
   "outputs": [],
   "source": [
    "import numpy as np \n",
    "import pandas as pd\n",
    "import matplotlib.pyplot as plt\n",
    "import seaborn as sns\n"
   ]
  },
  {
   "cell_type": "code",
   "execution_count": 72,
   "metadata": {},
   "outputs": [
    {
     "name": "stdout",
     "output_type": "stream",
     "text": [
      "   job_id                 start_time                   end_time  \\\n",
      "0       0 2024-12-03 17:22:34.091679 2024-12-03 17:25:50.420277   \n",
      "1       1 2024-12-03 17:22:36.101292 2024-12-03 17:26:02.522733   \n",
      "2       2 2024-12-03 17:25:50.427753 2024-12-03 17:28:54.727054   \n",
      "3       3 2024-12-03 17:26:02.530710 2024-12-03 17:29:34.054463   \n",
      "4       7 2024-12-03 17:29:34.057659 2024-12-03 17:32:51.594491   \n",
      "\n",
      "   carbon_footprint  \n",
      "0          3056.300  \n",
      "1          2454.962  \n",
      "2          3818.546  \n",
      "3          2657.942  \n",
      "4          3085.840  \n",
      "   job_id                 start_time                   end_time  \\\n",
      "0       0 2024-12-03 20:15:32.167523 2024-12-03 20:18:25.773633   \n",
      "1       1 2024-12-03 20:15:34.173039 2024-12-03 20:18:37.883761   \n",
      "2       2 2024-12-03 20:18:25.781147 2024-12-03 20:21:19.510260   \n",
      "3       3 2024-12-03 20:18:37.889601 2024-12-03 20:21:44.813160   \n",
      "4       6 2024-12-03 20:21:44.819530 2024-12-03 20:24:38.860225   \n",
      "\n",
      "   carbon_footprint  \n",
      "0          2904.656  \n",
      "1          2203.438  \n",
      "2          3340.356  \n",
      "3          2226.832  \n",
      "4          2091.149  \n",
      "   job_id                 start_time                   end_time  \\\n",
      "0       0 2024-12-03 22:55:53.258884 2024-12-03 22:58:47.450649   \n",
      "1       1 2024-12-03 22:55:55.274604 2024-12-03 22:58:59.574225   \n",
      "2       2 2024-12-03 22:58:47.468323 2024-12-03 23:01:41.736893   \n",
      "3       3 2024-12-03 22:58:59.579726 2024-12-03 23:02:06.246366   \n",
      "4       6 2024-12-03 23:02:06.252503 2024-12-03 23:05:32.837015   \n",
      "\n",
      "   carbon_footprint  \n",
      "0          2904.656  \n",
      "1          2203.438  \n",
      "2          3340.356  \n",
      "3          1590.222  \n",
      "4          2076.083  \n",
      "   job_id                 start_time                   end_time  \\\n",
      "0       0 2024-12-04 01:45:32.745875 2024-12-04 01:48:16.592117   \n",
      "1       1 2024-12-04 01:45:34.752725 2024-12-04 01:48:28.701801   \n",
      "2       2 2024-12-04 01:48:16.600908 2024-12-04 01:51:09.931170   \n",
      "3       3 2024-12-04 01:48:28.707743 2024-12-04 01:51:35.510668   \n",
      "4       6 2024-12-04 01:51:35.517029 2024-12-04 01:54:29.458893   \n",
      "\n",
      "   carbon_footprint  \n",
      "0          2653.228  \n",
      "1          2052.286  \n",
      "2          3345.548  \n",
      "3          2182.936  \n",
      "4          2759.066  \n"
     ]
    }
   ],
   "source": [
    "# open four csv files: job_times_{baseline, cap, danish, decima}.csv\n",
    "# parse datetimes for the 'start_time' and 'end_time' columns\n",
    "job_num = 100\n",
    "\n",
    "baseline = pd.read_csv(f'{job_num}_jobs/job_times_default_{job_num}.csv', parse_dates=['start_time', 'end_time'])\n",
    "cap = pd.read_csv(f'{job_num}_jobs/job_times_cap_{job_num}.csv', parse_dates=['start_time', 'end_time'])\n",
    "danish = pd.read_csv(f'{job_num}_jobs/job_times_danish_{job_num}.csv', parse_dates=['start_time', 'end_time'])\n",
    "decima = pd.read_csv(f'{job_num}_jobs/job_times_decima_{job_num}.csv', parse_dates=['start_time', 'end_time'])\n",
    "\n",
    "# drop last few rows that have no data\n",
    "baseline = baseline.dropna()\n",
    "cap = cap.dropna()\n",
    "danish = danish.dropna()\n",
    "decima = decima.dropna()\n",
    "\n",
    "# view the head of each\n",
    "print(baseline.head())\n",
    "print(cap.head())\n",
    "print(danish.head())\n",
    "print(decima.head())"
   ]
  },
  {
   "cell_type": "code",
   "execution_count": null,
   "metadata": {},
   "outputs": [],
   "source": []
  },
  {
   "cell_type": "code",
   "execution_count": 77,
   "metadata": {},
   "outputs": [
    {
     "name": "stdout",
     "output_type": "stream",
     "text": [
      "Total Carbon Footprint for baseline: 263623.06500000006\n",
      "Total Carbon Footprint for cap: 248302.92200000002\n",
      "Total Carbon Footprint for danish: 246812.37300000002\n",
      "Total Carbon Footprint for decima: 246411.20700000005\n"
     ]
    }
   ],
   "source": [
    "# for each of the four dataframes, compute the total carbon footprint for the first 20 rows (sum of all the carbon footprints)\n",
    "total_carbon_baseline = baseline['carbon_footprint'].sum()\n",
    "total_carbon_cap = cap['carbon_footprint'].sum()\n",
    "total_carbon_danish = danish['carbon_footprint'].sum()\n",
    "total_carbon_decima = decima['carbon_footprint'].sum()\n",
    "\n",
    "# print the results\n",
    "print('Total Carbon Footprint for baseline:', total_carbon_baseline)\n",
    "print('Total Carbon Footprint for cap:', total_carbon_cap)\n",
    "print('Total Carbon Footprint for danish:', total_carbon_danish)\n",
    "print('Total Carbon Footprint for decima:', total_carbon_decima)\n"
   ]
  },
  {
   "cell_type": "code",
   "execution_count": 78,
   "metadata": {},
   "outputs": [
    {
     "name": "stdout",
     "output_type": "stream",
     "text": [
      "Total Time for baseline:    0 days 02:50:56.960920\n",
      "Total Time for cap:         0 days 02:38:19.157330\n",
      "Total Time for danish:      0 days 02:48:00.549569\n",
      "Total Time for decima:      0 days 02:40:32.032420\n"
     ]
    }
   ],
   "source": [
    "# for each of the four dataframes, compute the total time\n",
    "# total time is the difference between start_time in the first row and the end_time in the last row\n",
    "# all of these are datetime objects\n",
    "total_time_baseline = baseline['end_time'].head(job_num).iloc[-1] - baseline['start_time'].head(job_num).iloc[0]\n",
    "total_time_cap = cap['end_time'].head(job_num).iloc[-1] - cap['start_time'].head(job_num).iloc[0]\n",
    "total_time_danish = danish['end_time'].head(job_num).iloc[-1] - danish['start_time'].head(job_num).iloc[0]\n",
    "total_time_decima = decima['end_time'].head(job_num).iloc[-1] - decima['start_time'].head(job_num).iloc[0]\n",
    "\n",
    "# print the results (just the hours, minutes, etc -- days are irrelevant)\n",
    "print('Total Time for baseline:   ', total_time_baseline)\n",
    "print('Total Time for cap:        ', total_time_cap)\n",
    "print('Total Time for danish:     ', total_time_danish)\n",
    "print('Total Time for decima:     ', total_time_decima)"
   ]
  },
  {
   "cell_type": "markdown",
   "metadata": {},
   "source": []
  },
  {
   "cell_type": "code",
   "execution_count": 76,
   "metadata": {},
   "outputs": [
    {
     "data": {
      "text/plain": [
       "<matplotlib.legend.Legend at 0x140ec7670>"
      ]
     },
     "execution_count": 76,
     "metadata": {},
     "output_type": "execute_result"
    },
    {
     "data": {
      "image/png": "[encoded data removed]",
      "text/plain": [
       "<Figure size 640x480 with 1 Axes>"
      ]
     },
     "metadata": {},
     "output_type": "display_data"
    }
   ],
   "source": [
    "# plot the carbon footprint and completion time, normalized to the max of each\n",
    "# bar plot in matplotlib\n",
    "# make sure to label the axes and give a title\n",
    "# save the plot as 'carbon_time_plot.png'\n",
    "\n",
    "import matplotlib.pyplot as plt\n",
    "\n",
    "carbon_data = [total_carbon_baseline, total_carbon_cap, total_carbon_danish, total_carbon_decima]\n",
    "time_data = [total_time_baseline, total_time_cap, total_time_danish, total_time_decima]\n",
    "\n",
    "carbon_data = [x / max(carbon_data) for x in carbon_data]\n",
    "time_data = [x / max(time_data) for x in time_data]\n",
    "\n",
    "fig, ax = plt.subplots()\n",
    "bar_width = 0.35\n",
    "index = np.arange(4)\n",
    "\n",
    "bar1 = ax.bar(index, carbon_data, bar_width, label='Carbon Footprint')\n",
    "bar2 = ax.bar(index + bar_width, time_data, bar_width, label='End-to-end Time')\n",
    "legend = ['Baseline', 'CAP', 'DANISH', 'Decima']\n",
    "ax.set_xlabel('Model')\n",
    "ax.set_ylabel('Normalized Value')\n",
    "ax.set_title('Empirical Experiments (MBP, 20 jobs of SparkTC)')\n",
    "ax.set_xticks(index + bar_width / 2)\n",
    "ax.set_xticklabels(legend)\n",
    "ax.legend()\n"
   ]
  },
  {
   "cell_type": "code",
   "execution_count": null,
   "metadata": {},
   "outputs": [],
   "source": []
  }
 ],
 "metadata": {
  "kernelspec": {
   "display_name": "base",
   "language": "python",
   "name": "python3"
  },
  "language_info": {
   "codemirror_mode": {
    "name": "ipython",
    "version": 3
   },
   "file_extension": ".py",
   "mimetype": "text/x-python",
   "name": "python",
   "nbconvert_exporter": "python",
   "pygments_lexer": "ipython3",
   "version": "3.10.14"
  }
 },
 "nbformat": 4,
 "nbformat_minor": 2
}
