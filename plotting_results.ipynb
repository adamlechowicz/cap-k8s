{
 "cells": [
  {
   "cell_type": "code",
   "execution_count": 1,
   "metadata": {},
   "outputs": [],
   "source": [
    "import numpy as np \n",
    "import pandas as pd\n",
    "import matplotlib.pyplot as plt\n",
    "import seaborn as sns\n"
   ]
  },
  {
   "cell_type": "code",
   "execution_count": null,
   "metadata": {},
   "outputs": [
    {
     "name": "stdout",
     "output_type": "stream",
     "text": [
      "   job_id                 start_time                   end_time  \\\n",
      "4       4 2024-12-06 23:01:46.844722 2024-12-06 23:07:27.806007   \n",
      "5       5 2024-12-06 23:01:47.360386 2024-12-06 23:07:39.342811   \n",
      "6       6 2024-12-06 23:01:47.881544 2024-12-06 23:07:39.342886   \n",
      "7       7 2024-12-06 23:01:48.406912 2024-12-06 23:07:36.939540   \n",
      "8       8 2024-12-06 23:01:48.926238 2024-12-06 23:07:15.407069   \n",
      "\n",
      "   carbon_footprint                                          executors  \n",
      "4       1524.640667  [('02:37', 'sparktc-e623e3939e35d817-exec-1'),...  \n",
      "5       1630.782333  [('02:38', 'sparktc-610f64939e35e1b8-exec-1'),...  \n",
      "6       1664.070667  [('02:35', 'sparktc-db0b06939e35d65d-exec-1'),...  \n",
      "7       1665.248333  [('02:38', 'sparktc-0b2dcf939e35e1ee-exec-1'),...  \n",
      "8       1507.992000  [('02:36', 'sparktc-bd7a4f939e35dd13-exec-1'),...  \n",
      "    job_id                 start_time                   end_time  \\\n",
      "5        5 2024-12-06 23:29:12.534555 2024-12-06 23:34:43.903005   \n",
      "7        7 2024-12-06 23:29:13.596450 2024-12-06 23:34:43.903118   \n",
      "8        8 2024-12-06 23:29:14.240789 2024-12-06 23:34:51.855752   \n",
      "9        9 2024-12-06 23:29:14.781693 2024-12-06 23:34:55.053505   \n",
      "10      10 2024-12-06 23:34:43.911206 2024-12-06 23:39:39.224694   \n",
      "\n",
      "    carbon_footprint                                          executors  \n",
      "5        1891.908667  [('30:03', 'sparktc-559cdf939e4ef9d5-exec-1'),...  \n",
      "7        1966.467333  [('30:03', 'sparktc-bc1a37939e4efc0b-exec-1'),...  \n",
      "8        2064.783667  [('30:05', 'sparktc-2f3045939e4efecb-exec-1'),...  \n",
      "9        2039.574000  [('30:03', 'sparktc-be45df939e4efc8c-exec-1'),...  \n",
      "10       1904.749500  [('35:05', 'sparktc-2ae5f9939e539ad7-exec-1'),...  \n",
      "    job_id                 start_time                   end_time  \\\n",
      "5        5 2024-12-07 00:09:53.852493 2024-12-07 00:15:31.063954   \n",
      "7        7 2024-12-07 00:09:54.922151 2024-12-07 00:15:13.234835   \n",
      "9        9 2024-12-07 00:09:55.967653 2024-12-07 00:14:59.589527   \n",
      "10      10 2024-12-07 00:14:59.600151 2024-12-07 00:20:01.787801   \n",
      "11      11 2024-12-07 00:15:13.243465 2024-12-07 00:20:07.905496   \n",
      "\n",
      "    carbon_footprint                                          executors  \n",
      "5        2961.232333  [('10:44', 'sparktc-c72a5a939e743a33-exec-1'),...  \n",
      "7        2518.709333  [('10:46', 'sparktc-5c9603939e74417a-exec-1'),...  \n",
      "9        2429.275667  [('10:44', 'sparktc-1804a7939e743d07-exec-1'),...  \n",
      "10       2835.678333  [('15:20', 'sparktc-75905b939e786988-exec-1'),...  \n",
      "11       2530.791667  [('15:33', 'sparktc-b2db77939e78a022-exec-1'),...  \n",
      "    job_id                 start_time                   end_time  \\\n",
      "6        6 2024-12-07 01:00:58.484627 2024-12-07 01:06:10.013787   \n",
      "7        7 2024-12-07 01:00:59.006910 2024-12-07 01:06:22.017237   \n",
      "8        8 2024-12-07 01:00:59.532620 2024-12-07 01:06:39.167971   \n",
      "9        9 2024-12-07 01:01:00.059051 2024-12-07 01:06:37.243746   \n",
      "10      10 2024-12-07 01:06:10.056362 2024-12-07 01:11:19.024793   \n",
      "\n",
      "    carbon_footprint                                          executors  \n",
      "6        2169.128000  [('01:50', 'sparktc-2c9167939ea30497-exec-1'),...  \n",
      "7        2259.829000  [('01:47', 'sparktc-c3ebcc939ea2fcae-exec-1'),...  \n",
      "8        2430.508667  [('01:51', 'sparktc-c96102939ea30679-exec-1'),...  \n",
      "9        2513.290333  [('01:50', 'sparktc-8424d3939ea302ff-exec-1'),...  \n",
      "10       2481.664000  [('06:36', 'sparktc-f9e2ed939ea746e4-exec-1'),...  \n"
     ]
    }
   ],
   "source": [
    "# open several csv files: results/{default, cap, danish, decima}/sparktc_{job_num}/times_{0,1,2,3}.csv\n",
    "# parse datetimes for the 'start_time' and 'end_time' columns\n",
    "job_num = 30\n",
    "\n",
    "baseline_0 = pd.read_csv(f'results/default/sparktc_{job_num}/times_0.csv', parse_dates=['start_time', 'end_time'])\n",
    "baseline_1 = pd.read_csv(f'results/default/sparktc_{job_num}/times_1.csv', parse_dates=['start_time', 'end_time'])\n",
    "baseline_2 = pd.read_csv(f'results/default/sparktc_{job_num}/times_2.csv', parse_dates=['start_time', 'end_time'])\n",
    "baseline_3 = pd.read_csv(f'results/default/sparktc_{job_num}/times_3.csv', parse_dates=['start_time', 'end_time'])\n",
    "\n",
    "cap_0 = pd.read_csv(f'results/cap/sparktc_{job_num}/times_0.csv', parse_dates=['start_time', 'end_time'])\n",
    "cap_1 = pd.read_csv(f'results/cap/sparktc_{job_num}/times_1.csv', parse_dates=['start_time', 'end_time'])\n",
    "cap_2 = pd.read_csv(f'results/cap/sparktc_{job_num}/times_2.csv', parse_dates=['start_time', 'end_time'])\n",
    "cap_3 = pd.read_csv(f'results/cap/sparktc_{job_num}/times_3.csv', parse_dates=['start_time', 'end_time'])\n",
    "\n",
    "danish_0 = pd.read_csv(f'results/danish/sparktc_{job_num}/times_0.csv', parse_dates=['start_time', 'end_time'])\n",
    "danish_1 = pd.read_csv(f'results/danish/sparktc_{job_num}/times_1.csv', parse_dates=['start_time', 'end_time'])\n",
    "danish_2 = pd.read_csv(f'results/danish/sparktc_{job_num}/times_2.csv', parse_dates=['start_time', 'end_time'])\n",
    "danish_3 = pd.read_csv(f'results/danish/sparktc_{job_num}/times_3.csv', parse_dates=['start_time', 'end_time'])\n",
    "\n",
    "decima_0 = pd.read_csv(f'results/decima/sparktc_{job_num}/times_0.csv', parse_dates=['start_time', 'end_time'])\n",
    "decima_1 = pd.read_csv(f'results/decima/sparktc_{job_num}/times_1.csv', parse_dates=['start_time', 'end_time'])\n",
    "decima_2 = pd.read_csv(f'results/decima/sparktc_{job_num}/times_2.csv', parse_dates=['start_time', 'end_time'])\n",
    "decima_3 = pd.read_csv(f'results/decima/sparktc_{job_num}/times_3.csv', parse_dates=['start_time', 'end_time'])\n",
    "\n",
    "# drop rows that have no data\n",
    "baseline_0 = baseline_0.dropna()\n",
    "baseline_1 = baseline_1.dropna()\n",
    "baseline_2 = baseline_2.dropna()\n",
    "baseline_3 = baseline_3.dropna()\n",
    "\n",
    "cap_0 = cap_0.dropna()\n",
    "cap_1 = cap_1.dropna()\n",
    "cap_2 = cap_2.dropna()\n",
    "cap_3 = cap_3.dropna()\n",
    "\n",
    "danish_0 = danish_0.dropna()\n",
    "danish_1 = danish_1.dropna()\n",
    "danish_2 = danish_2.dropna()\n",
    "danish_3 = danish_3.dropna()\n",
    "\n",
    "decima_0 = decima_0.dropna()\n",
    "decima_1 = decima_1.dropna()\n",
    "decima_2 = decima_2.dropna()\n",
    "decima_3 = decima_3.dropna()\n",
    "\n",
    "dfs = [baseline_0, baseline_1, baseline_2, baseline_3, cap_0, cap_1, cap_2, cap_3, danish_0, danish_1, danish_2, danish_3, decima_0, decima_1, decima_2, decima_3]\n",
    "\n",
    "# view the head of first 4\n",
    "print(baseline_0.head())\n",
    "print(cap_0.head())\n",
    "print(danish_0.head())\n",
    "print(decima_0.head())"
   ]
  },
  {
   "cell_type": "code",
   "execution_count": null,
   "metadata": {},
   "outputs": [],
   "source": []
  },
  {
   "cell_type": "code",
   "execution_count": 9,
   "metadata": {},
   "outputs": [
    {
     "name": "stdout",
     "output_type": "stream",
     "text": [
      "Total Carbon Footprint for baseline: 42623.28983333338\n",
      "Total Carbon Footprint for cap: 59057.05300000003\n",
      "Total Carbon Footprint for danish: 80154.42216666667\n",
      "Total Carbon Footprint for decima: 63600.24266666673\n"
     ]
    }
   ],
   "source": [
    "# for each of the four dataframes, compute the total carbon footprint for the first 20 rows (sum of all the carbon footprints)\n",
    "total_carbon_baseline = baseline_0['carbon_footprint'].sum()\n",
    "total_carbon_cap = cap_0['carbon_footprint'].sum()\n",
    "total_carbon_danish = danish_0['carbon_footprint'].sum()\n",
    "total_carbon_decima = decima_0['carbon_footprint'].sum()\n",
    "\n",
    "# print the results\n",
    "print('Total Carbon Footprint for baseline:', total_carbon_baseline)\n",
    "print('Total Carbon Footprint for cap:', total_carbon_cap)\n",
    "print('Total Carbon Footprint for danish:', total_carbon_danish)\n",
    "print('Total Carbon Footprint for decima:', total_carbon_decima)\n"
   ]
  },
  {
   "cell_type": "code",
   "execution_count": 10,
   "metadata": {},
   "outputs": [
    {
     "name": "stdout",
     "output_type": "stream",
     "text": [
      "Total Carbon Footprint for baseline_1: 53960.882333333386\n",
      "Total Carbon Footprint for cap_1: 42999.41850000002\n",
      "Total Carbon Footprint for danish_1: 42620.96066666672\n",
      "Total Carbon Footprint for decima_1: 48521.55950000002\n"
     ]
    }
   ],
   "source": [
    "# do the same thing for the _1 files\n",
    "total_carbon_baseline_1 = baseline_1['carbon_footprint'].sum()\n",
    "total_carbon_cap_1 = cap_1['carbon_footprint'].sum()\n",
    "total_carbon_danish_1 = danish_1['carbon_footprint'].sum()\n",
    "total_carbon_decima_1 = decima_1['carbon_footprint'].sum()\n",
    "\n",
    "# print the results\n",
    "print('Total Carbon Footprint for baseline_1:', total_carbon_baseline_1)\n",
    "print('Total Carbon Footprint for cap_1:', total_carbon_cap_1)\n",
    "print('Total Carbon Footprint for danish_1:', total_carbon_danish_1)\n",
    "print('Total Carbon Footprint for decima_1:', total_carbon_decima_1)"
   ]
  },
  {
   "cell_type": "code",
   "execution_count": 11,
   "metadata": {},
   "outputs": [
    {
     "name": "stdout",
     "output_type": "stream",
     "text": [
      "Total Carbon Footprint for baseline_2: 62335.63733333336\n",
      "Total Carbon Footprint for cap_2: 54181.50033333334\n",
      "Total Carbon Footprint for danish_2: 50032.406833333356\n",
      "Total Carbon Footprint for decima_2: 41715.69983333335\n"
     ]
    }
   ],
   "source": [
    "# and the same for the _2 files\n",
    "total_carbon_baseline_2 = baseline_2['carbon_footprint'].sum()\n",
    "total_carbon_cap_2 = cap_2['carbon_footprint'].sum()\n",
    "total_carbon_danish_2 = danish_2['carbon_footprint'].sum()\n",
    "total_carbon_decima_2 = decima_2['carbon_footprint'].sum()\n",
    "\n",
    "# print the results\n",
    "print('Total Carbon Footprint for baseline_2:', total_carbon_baseline_2)\n",
    "print('Total Carbon Footprint for cap_2:', total_carbon_cap_2)\n",
    "print('Total Carbon Footprint for danish_2:', total_carbon_danish_2)\n",
    "print('Total Carbon Footprint for decima_2:', total_carbon_decima_2)"
   ]
  },
  {
   "cell_type": "code",
   "execution_count": 12,
   "metadata": {},
   "outputs": [
    {
     "name": "stdout",
     "output_type": "stream",
     "text": [
      "Total Carbon Footprint for baseline_3: 40823.01500000003\n",
      "Total Carbon Footprint for cap_3: 40916.94833333338\n",
      "Total Carbon Footprint for danish_3: 39965.55866666669\n",
      "Total Carbon Footprint for decima_3: 34306.084000000024\n"
     ]
    }
   ],
   "source": [
    "# and the same for the _3 files\n",
    "total_carbon_baseline_3 = baseline_3['carbon_footprint'].sum()\n",
    "total_carbon_cap_3 = cap_3['carbon_footprint'].sum()\n",
    "total_carbon_danish_3 = danish_3['carbon_footprint'].sum()\n",
    "total_carbon_decima_3 = decima_3['carbon_footprint'].sum()\n",
    "\n",
    "# print the results\n",
    "print('Total Carbon Footprint for baseline_3:', total_carbon_baseline_3)\n",
    "print('Total Carbon Footprint for cap_3:', total_carbon_cap_3)\n",
    "print('Total Carbon Footprint for danish_3:', total_carbon_danish_3)\n",
    "print('Total Carbon Footprint for decima_3:', total_carbon_decima_3)"
   ]
  },
  {
   "cell_type": "code",
   "execution_count": 13,
   "metadata": {},
   "outputs": [
    {
     "name": "stdout",
     "output_type": "stream",
     "text": [
      "Average Carbon Footprint for baseline: 49935.70612500004\n",
      "Average Carbon Footprint for cap: 49288.730041666684\n",
      "Average Carbon Footprint for danish: 53193.33708333336\n",
      "Average Carbon Footprint for decima: 47035.89650000003\n"
     ]
    }
   ],
   "source": [
    "# compute average across all files\n",
    "average_carbon_baseline = (total_carbon_baseline + total_carbon_baseline_1 + total_carbon_baseline_2 + total_carbon_baseline_3) / 4\n",
    "average_carbon_cap = (total_carbon_cap + total_carbon_cap_1 + total_carbon_cap_2 + total_carbon_cap_3) / 4\n",
    "average_carbon_danish = (total_carbon_danish + total_carbon_danish_1 + total_carbon_danish_2 + total_carbon_danish_3) / 4\n",
    "average_carbon_decima = (total_carbon_decima + total_carbon_decima_1 + total_carbon_decima_2 + total_carbon_decima_3) / 4\n",
    "\n",
    "# print the results\n",
    "print('Average Carbon Footprint for baseline:', average_carbon_baseline)\n",
    "print('Average Carbon Footprint for cap:', average_carbon_cap)\n",
    "print('Average Carbon Footprint for danish:', average_carbon_danish)\n",
    "print('Average Carbon Footprint for decima:', average_carbon_decima)"
   ]
  },
  {
   "cell_type": "code",
   "execution_count": 15,
   "metadata": {},
   "outputs": [
    {
     "name": "stdout",
     "output_type": "stream",
     "text": [
      "Total Time for baseline:    0 days 00:26:45.900166\n",
      "Total Time for cap:         0 days 00:39:57.895759\n",
      "Total Time for danish:      0 days 00:50:32.688170\n",
      "Total Time for decima:      0 days 00:38:46.119807\n"
     ]
    }
   ],
   "source": [
    "# for each of the four dataframes, compute the total time\n",
    "# total time is the difference between start_time in the first row and the end_time in the last row\n",
    "# all of these are datetime objects\n",
    "total_time_baseline = baseline_0['end_time'].head(job_num).iloc[-1] - baseline_0['start_time'].head(job_num).iloc[0]\n",
    "total_time_cap = cap_0['end_time'].head(job_num).iloc[-1] - cap_0['start_time'].head(job_num).iloc[0]\n",
    "total_time_danish = danish_0['end_time'].head(job_num).iloc[-1] - danish_0['start_time'].head(job_num).iloc[0]\n",
    "total_time_decima = decima_0['end_time'].head(job_num).iloc[-1] - decima_0['start_time'].head(job_num).iloc[0]\n",
    "\n",
    "# print the results (just the hours, minutes, etc -- days are irrelevant)\n",
    "print('Total Time for baseline:   ', total_time_baseline)\n",
    "print('Total Time for cap:        ', total_time_cap)\n",
    "print('Total Time for danish:     ', total_time_danish)\n",
    "print('Total Time for decima:     ', total_time_decima)"
   ]
  },
  {
   "cell_type": "code",
   "execution_count": null,
   "metadata": {},
   "outputs": [],
   "source": [
    "# do the same time calculation for the _1 files\n"
   ]
  },
  {
   "cell_type": "code",
   "execution_count": 5,
   "metadata": {},
   "outputs": [
    {
     "data": {
      "text/plain": [
       "<matplotlib.legend.Legend at 0x16f6365f0>"
      ]
     },
     "execution_count": 5,
     "metadata": {},
     "output_type": "execute_result"
    },
    {
     "data": {
      "image/png": "[encoded data removed]",
      "text/plain": [
       "<Figure size 640x480 with 1 Axes>"
      ]
     },
     "metadata": {},
     "output_type": "display_data"
    }
   ],
   "source": [
    "# plot the carbon footprint and completion time, normalized to the max of each\n",
    "# bar plot in matplotlib\n",
    "# make sure to label the axes and give a title\n",
    "# save the plot as 'carbon_time_plot.png'\n",
    "\n",
    "import matplotlib.pyplot as plt\n",
    "\n",
    "carbon_data = [total_carbon_baseline, total_carbon_cap, total_carbon_danish, total_carbon_decima]\n",
    "time_data = [total_time_baseline, total_time_cap, total_time_danish, total_time_decima]\n",
    "\n",
    "carbon_data = [x / max(carbon_data) for x in carbon_data]\n",
    "time_data = [x / max(time_data) for x in time_data]\n",
    "\n",
    "fig, ax = plt.subplots()\n",
    "bar_width = 0.35\n",
    "index = np.arange(4)\n",
    "\n",
    "bar1 = ax.bar(index, carbon_data, bar_width, label='Carbon Footprint')\n",
    "bar2 = ax.bar(index + bar_width, time_data, bar_width, label='End-to-end Time')\n",
    "legend = ['Baseline', 'CAP', 'DANISH', 'Decima']\n",
    "ax.set_xlabel('Model')\n",
    "ax.set_ylabel('Normalized Value')\n",
    "ax.set_title('Empirical Experiments (MBP, 20 jobs of SparkTC)')\n",
    "ax.set_xticks(index + bar_width / 2)\n",
    "ax.set_xticklabels(legend)\n",
    "ax.legend()\n"
   ]
  },
  {
   "cell_type": "code",
   "execution_count": null,
   "metadata": {},
   "outputs": [],
   "source": []
  }
 ],
 "metadata": {
  "kernelspec": {
   "display_name": "base",
   "language": "python",
   "name": "python3"
  },
  "language_info": {
   "codemirror_mode": {
    "name": "ipython",
    "version": 3
   },
   "file_extension": ".py",
   "mimetype": "text/x-python",
   "name": "python",
   "nbconvert_exporter": "python",
   "pygments_lexer": "ipython3",
   "version": "3.10.14"
  }
 },
 "nbformat": 4,
 "nbformat_minor": 2
}
