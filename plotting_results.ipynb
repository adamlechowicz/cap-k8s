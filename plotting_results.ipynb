{
 "cells": [
  {
   "cell_type": "code",
   "execution_count": 60,
   "metadata": {},
   "outputs": [],
   "source": [
    "import numpy as np \n",
    "import pandas as pd\n",
    "import matplotlib.pyplot as plt\n",
    "import seaborn as sns\n"
   ]
  },
  {
   "cell_type": "code",
   "execution_count": 61,
   "metadata": {},
   "outputs": [
    {
     "name": "stdout",
     "output_type": "stream",
     "text": [
      "   job_id                 start_time                   end_time  \\\n",
      "0       0 2024-12-09 14:29:09.485403 2024-12-09 14:29:56.242725   \n",
      "1       1 2024-12-09 14:29:31.703451 2024-12-09 14:30:12.301128   \n",
      "2       2 2024-12-09 14:30:26.109226 2024-12-09 14:34:45.034004   \n",
      "3       3 2024-12-09 14:31:32.341610 2024-12-09 14:32:10.514949   \n",
      "4       4 2024-12-09 14:31:42.937036 2024-12-09 14:33:57.544592   \n",
      "\n",
      "   carbon_footprint                                          executors  \n",
      "0        196.611333  [('29:39', 'tpc-h-v3-0-0-spark-379c5193abd32f7...  \n",
      "1         98.305667  [('29:56', 'tpc-h-v3-0-0-spark-630c0e93abd37b9...  \n",
      "2       2557.817167  [('30:51', 'tpc-h-v3-0-0-spark-8aa23193abd44d9...  \n",
      "3         27.386000  [('31:56', 'tpc-h-v3-0-0-spark-4e93ac93abd5512...  \n",
      "4        495.014000  [('32:10', 'tpc-h-v3-0-0-spark-5585f093abd57d2...  \n",
      "   job_id                 start_time                   end_time  \\\n",
      "0       0 2024-12-09 15:32:23.088049 2024-12-09 15:33:15.982232   \n",
      "1       1 2024-12-09 15:32:24.229693 2024-12-09 15:36:23.851570   \n",
      "2       2 2024-12-09 15:33:08.765953 2024-12-09 15:34:35.926118   \n",
      "3       3 2024-12-09 15:33:27.424115 2024-12-09 15:34:13.384956   \n",
      "4       4 2024-12-09 15:33:31.280509 2024-12-09 15:34:13.385077   \n",
      "\n",
      "   carbon_footprint                                          executors  \n",
      "0        196.611333  [('32:52', 'tpc-h-v3-0-0-spark-d2d28b93ac0d0e9...  \n",
      "1       1633.513500  [('32:52', 'tpc-h-v3-0-0-spark-e8b43e93ac0d11b...  \n",
      "2        111.016333  [('33:39', 'tpc-h-v3-0-0-spark-f8fac493ac0dbd2...  \n",
      "3         27.806667  [('33:58', 'tpc-h-v3-0-0-spark-0655fb93ac0e08d...  \n",
      "4         13.903333  [('33:58', 'tpc-h-v3-0-0-spark-70f67293ac0e18e...  \n",
      "   job_id                 start_time                   end_time  \\\n",
      "0       0 2024-12-09 16:42:47.828946 2024-12-09 16:43:36.469455   \n",
      "1       1 2024-12-09 16:42:57.246819 2024-12-09 16:46:55.778754   \n",
      "2       2 2024-12-09 16:43:23.813736 2024-12-09 16:44:12.299228   \n",
      "3       3 2024-12-09 16:43:51.415097 2024-12-09 16:47:51.477591   \n",
      "4       4 2024-12-09 16:44:04.802812 2024-12-09 16:48:05.415905   \n",
      "\n",
      "   carbon_footprint                                          executors  \n",
      "0        308.960667  [('43:11', 'tpc-h-v3-0-0-spark-802b9793ac4d7ca...  \n",
      "1       2016.316333  [('43:26', 'tpc-h-v3-0-0-spark-b730cc93ac4da23...  \n",
      "2         55.613333  [('43:54', 'tpc-h-v3-0-0-spark-09e3ec93ac4e0e1...  \n",
      "3       1535.986333  [('44:19', 'tpc-h-v3-0-0-spark-97e52c93ac4e75c...  \n",
      "4       1544.788333  [('44:41', 'tpc-h-v3-0-0-spark-c108d493ac4eb3e...  \n",
      "   job_id                 start_time                   end_time  \\\n",
      "0       0 2024-12-09 17:45:33.157817 2024-12-09 17:46:20.184687   \n",
      "1       1 2024-12-09 17:46:16.094537 2024-12-09 17:46:58.160542   \n",
      "2       2 2024-12-09 17:46:28.321504 2024-12-09 17:47:07.776499   \n",
      "3       3 2024-12-09 17:46:41.141881 2024-12-09 17:51:16.153581   \n",
      "4       4 2024-12-09 17:46:51.131337 2024-12-09 17:49:12.448199   \n",
      "\n",
      "   carbon_footprint                                          executors  \n",
      "0        273.851500  [('45:58', 'tpc-h-v3-0-0-spark-86601a93ac86f29...  \n",
      "1         69.516667  [('46:43', 'tpc-h-v3-0-0-spark-a54ee093ac879e1...  \n",
      "2         48.661667  [('46:54', 'tpc-h-v3-0-0-spark-6f72eb93ac87c6c...  \n",
      "3       1408.198333  [('47:09', 'tpc-h-v3-0-0-spark-1dc13c93ac87fd2...  \n",
      "4        427.080000  [('47:23', 'tpc-h-v3-0-0-spark-d7260493ac88257...  \n"
     ]
    }
   ],
   "source": [
    "# open several csv files: results/{default, cap, danish, decima}/tpch_{job_num}/times_{0,1,2,3}.csv\n",
    "# parse datetimes for the 'start_time' and 'end_time' columns\n",
    "job_num = 100\n",
    "\n",
    "baseline_0 = pd.read_csv(f'results/default/tpch_{job_num}/times_0.csv', parse_dates=['start_time', 'end_time'])\n",
    "baseline_1 = pd.read_csv(f'results/default/tpch_{job_num}/times_1.csv', parse_dates=['start_time', 'end_time'])\n",
    "baseline_2 = pd.read_csv(f'results/default/tpch_{job_num}/times_2.csv', parse_dates=['start_time', 'end_time'])\n",
    "baseline_3 = pd.read_csv(f'results/default/tpch_{job_num}/times_3.csv', parse_dates=['start_time', 'end_time'])\n",
    "\n",
    "cap_0 = pd.read_csv(f'results/cap/tpch_{job_num}/times_0.csv', parse_dates=['start_time', 'end_time'])\n",
    "cap_1 = pd.read_csv(f'results/cap/tpch_{job_num}/times_1.csv', parse_dates=['start_time', 'end_time'])\n",
    "cap_2 = pd.read_csv(f'results/cap/tpch_{job_num}/times_2.csv', parse_dates=['start_time', 'end_time'])\n",
    "cap_3 = pd.read_csv(f'results/cap/tpch_{job_num}/times_3.csv', parse_dates=['start_time', 'end_time'])\n",
    "\n",
    "danish_0 = pd.read_csv(f'results/danish/tpch_{job_num}/times_0.csv', parse_dates=['start_time', 'end_time'])\n",
    "danish_1 = pd.read_csv(f'results/danish/tpch_{job_num}/times_1.csv', parse_dates=['start_time', 'end_time'])\n",
    "danish_2 = pd.read_csv(f'results/danish/tpch_{job_num}/times_2.csv', parse_dates=['start_time', 'end_time'])\n",
    "danish_3 = pd.read_csv(f'results/danish/tpch_{job_num}/times_3.csv', parse_dates=['start_time', 'end_time'])\n",
    "\n",
    "decima_0 = pd.read_csv(f'results/decima/tpch_{job_num}/times_0.csv', parse_dates=['start_time', 'end_time'])\n",
    "decima_1 = pd.read_csv(f'results/decima/tpch_{job_num}/times_1.csv', parse_dates=['start_time', 'end_time'])\n",
    "decima_2 = pd.read_csv(f'results/decima/tpch_{job_num}/times_2.csv', parse_dates=['start_time', 'end_time'])\n",
    "decima_3 = pd.read_csv(f'results/decima/tpch_{job_num}/times_3.csv', parse_dates=['start_time', 'end_time'])\n",
    "\n",
    "# drop rows that have no data\n",
    "baseline_0 = baseline_0.dropna()\n",
    "baseline_1 = baseline_1.dropna()\n",
    "baseline_2 = baseline_2.dropna()\n",
    "baseline_3 = baseline_3.dropna()\n",
    "\n",
    "cap_0 = cap_0.dropna()\n",
    "cap_1 = cap_1.dropna()\n",
    "cap_2 = cap_2.dropna()\n",
    "cap_3 = cap_3.dropna()\n",
    "\n",
    "danish_0 = danish_0.dropna()\n",
    "danish_1 = danish_1.dropna()\n",
    "danish_2 = danish_2.dropna()\n",
    "danish_3 = danish_3.dropna()\n",
    "\n",
    "decima_0 = decima_0.dropna()\n",
    "decima_1 = decima_1.dropna()\n",
    "decima_2 = decima_2.dropna()\n",
    "decima_3 = decima_3.dropna()\n",
    "\n",
    "dfs = [baseline_0, baseline_1, baseline_2, baseline_3, cap_0, cap_1, cap_2, cap_3, danish_0, danish_1, danish_2, danish_3, decima_0, decima_1, decima_2, decima_3]\n",
    "\n",
    "# view the head of first 4\n",
    "print(baseline_0.head())\n",
    "print(cap_0.head())\n",
    "print(danish_0.head())\n",
    "print(decima_0.head())"
   ]
  },
  {
   "cell_type": "code",
   "execution_count": null,
   "metadata": {},
   "outputs": [],
   "source": []
  },
  {
   "cell_type": "code",
   "execution_count": 74,
   "metadata": {},
   "outputs": [
    {
     "name": "stdout",
     "output_type": "stream",
     "text": [
      "Total Carbon Footprint for baseline: 63676.3825\n",
      "Total Carbon Footprint for cap: 60005.12983333343\n",
      "Total Carbon Footprint for danish: 70650.43866666665\n",
      "Total Carbon Footprint for decima: 62343.223666666694\n"
     ]
    }
   ],
   "source": [
    "# for each of the four dataframes, compute the total carbon footprint for the first 20 rows (sum of all the carbon footprints)\n",
    "total_carbon_baseline = baseline_0['carbon_footprint'].head(100).sum()\n",
    "total_carbon_cap = cap_0['carbon_footprint'].head(100).sum()\n",
    "total_carbon_danish = danish_0['carbon_footprint'].head(100).sum()\n",
    "total_carbon_decima = decima_0['carbon_footprint'].head(100).sum()\n",
    "\n",
    "# print the results\n",
    "print('Total Carbon Footprint for baseline:', total_carbon_baseline)\n",
    "print('Total Carbon Footprint for cap:', total_carbon_cap)\n",
    "print('Total Carbon Footprint for danish:', total_carbon_danish)\n",
    "print('Total Carbon Footprint for decima:', total_carbon_decima)\n"
   ]
  },
  {
   "cell_type": "code",
   "execution_count": 75,
   "metadata": {},
   "outputs": [
    {
     "name": "stdout",
     "output_type": "stream",
     "text": [
      "Total Carbon Footprint for baseline_1: 66418.20700000002\n",
      "Total Carbon Footprint for cap_1: 63388.09883333338\n",
      "Total Carbon Footprint for danish_1: 65521.03916666671\n",
      "Total Carbon Footprint for decima_1: 61607.74716666669\n"
     ]
    }
   ],
   "source": [
    "# do the same thing for the _1 files\n",
    "total_carbon_baseline_1 = baseline_1['carbon_footprint'].head(100).sum()\n",
    "total_carbon_cap_1 = cap_1['carbon_footprint'].head(100).sum()\n",
    "total_carbon_danish_1 = danish_1['carbon_footprint'].head(100).sum()\n",
    "total_carbon_decima_1 = decima_1['carbon_footprint'].head(100).sum()\n",
    "\n",
    "# print the results\n",
    "print('Total Carbon Footprint for baseline_1:', total_carbon_baseline_1)\n",
    "print('Total Carbon Footprint for cap_1:', total_carbon_cap_1)\n",
    "print('Total Carbon Footprint for danish_1:', total_carbon_danish_1)\n",
    "print('Total Carbon Footprint for decima_1:', total_carbon_decima_1)"
   ]
  },
  {
   "cell_type": "code",
   "execution_count": 76,
   "metadata": {},
   "outputs": [
    {
     "name": "stdout",
     "output_type": "stream",
     "text": [
      "Total Carbon Footprint for baseline_2: 50343.305666666674\n",
      "Total Carbon Footprint for cap_2: 49022.564\n",
      "Total Carbon Footprint for danish_2: 43433.16750000001\n",
      "Total Carbon Footprint for decima_2: 39505.44516666667\n"
     ]
    }
   ],
   "source": [
    "# and the same for the _2 files\n",
    "total_carbon_baseline_2 = baseline_2['carbon_footprint'].head(100).sum()\n",
    "total_carbon_cap_2 = cap_2['carbon_footprint'].head(100).sum()\n",
    "total_carbon_danish_2 = danish_2['carbon_footprint'].head(100).sum()\n",
    "total_carbon_decima_2 = decima_2['carbon_footprint'].head(100).sum()\n",
    "\n",
    "# print the results\n",
    "print('Total Carbon Footprint for baseline_2:', total_carbon_baseline_2)\n",
    "print('Total Carbon Footprint for cap_2:', total_carbon_cap_2)\n",
    "print('Total Carbon Footprint for danish_2:', total_carbon_danish_2)\n",
    "print('Total Carbon Footprint for decima_2:', total_carbon_decima_2)"
   ]
  },
  {
   "cell_type": "code",
   "execution_count": 77,
   "metadata": {},
   "outputs": [
    {
     "name": "stdout",
     "output_type": "stream",
     "text": [
      "Total Carbon Footprint for baseline_3: 57455.876500000064\n",
      "Total Carbon Footprint for cap_3: 67274.74016666673\n",
      "Total Carbon Footprint for danish_3: 54663.51816666671\n",
      "Total Carbon Footprint for decima_3: 72984.2103333334\n"
     ]
    }
   ],
   "source": [
    "# and the same for the _3 files\n",
    "total_carbon_baseline_3 = baseline_3['carbon_footprint'].head(100).sum()\n",
    "total_carbon_cap_3 = cap_3['carbon_footprint'].head(100).sum()\n",
    "total_carbon_danish_3 = danish_3['carbon_footprint'].head(100).sum()\n",
    "total_carbon_decima_3 = decima_3['carbon_footprint'].head(100).sum()\n",
    "\n",
    "# print the results\n",
    "print('Total Carbon Footprint for baseline_3:', total_carbon_baseline_3)\n",
    "print('Total Carbon Footprint for cap_3:', total_carbon_cap_3)\n",
    "print('Total Carbon Footprint for danish_3:', total_carbon_danish_3)\n",
    "print('Total Carbon Footprint for decima_3:', total_carbon_decima_3)"
   ]
  },
  {
   "cell_type": "code",
   "execution_count": 78,
   "metadata": {},
   "outputs": [
    {
     "name": "stdout",
     "output_type": "stream",
     "text": [
      "Average Carbon Footprint for baseline: 59473.442916666696\n",
      "Average Carbon Footprint for cap: 59922.633208333384\n",
      "Average Carbon Footprint for danish: 58567.04087500002\n",
      "Average Carbon Footprint for decima: 59110.15658333336\n"
     ]
    }
   ],
   "source": [
    "# compute average across all files\n",
    "average_carbon_baseline = (total_carbon_baseline + total_carbon_baseline_1 + total_carbon_baseline_2 + total_carbon_baseline_3) / 4\n",
    "average_carbon_cap = (total_carbon_cap + total_carbon_cap_1 + total_carbon_cap_2 + total_carbon_cap_3) / 4\n",
    "average_carbon_danish = (total_carbon_danish + total_carbon_danish_1 + total_carbon_danish_2 + total_carbon_danish_3) / 4\n",
    "average_carbon_decima = (total_carbon_decima + total_carbon_decima_1 + total_carbon_decima_2 + total_carbon_decima_3) / 4\n",
    "\n",
    "# print the results\n",
    "print('Average Carbon Footprint for baseline:', average_carbon_baseline)\n",
    "print('Average Carbon Footprint for cap:', average_carbon_cap)\n",
    "print('Average Carbon Footprint for danish:', average_carbon_danish)\n",
    "print('Average Carbon Footprint for decima:', average_carbon_decima)"
   ]
  },
  {
   "cell_type": "code",
   "execution_count": 79,
   "metadata": {},
   "outputs": [
    {
     "name": "stdout",
     "output_type": "stream",
     "text": [
      "Total Time for baseline:    0 days 01:00:54.412400\n",
      "Total Time for cap:         0 days 01:09:41.070889\n",
      "Total Time for danish:      0 days 01:01:07.239494\n",
      "Total Time for decima:      0 days 00:56:47.221763\n"
     ]
    }
   ],
   "source": [
    "# for each of the four dataframes, compute the total time\n",
    "# total time is the difference between start_time in the first row and the end_time in the last row\n",
    "# all of these are datetime objects\n",
    "total_time_baseline = baseline_0['end_time'].head(job_num).iloc[-1] - baseline_0['start_time'].head(job_num).iloc[0]\n",
    "total_time_cap = cap_0['end_time'].head(job_num).iloc[-1] - cap_0['start_time'].head(job_num).iloc[0]\n",
    "total_time_danish = danish_0['end_time'].head(job_num).iloc[-1] - danish_0['start_time'].head(job_num).iloc[0]\n",
    "total_time_decima = decima_0['end_time'].head(job_num).iloc[-1] - decima_0['start_time'].head(job_num).iloc[0]\n",
    "\n",
    "# print the results (just the hours, minutes, etc -- days are irrelevant)\n",
    "print('Total Time for baseline:   ', total_time_baseline)\n",
    "print('Total Time for cap:        ', total_time_cap)\n",
    "print('Total Time for danish:     ', total_time_danish)\n",
    "print('Total Time for decima:     ', total_time_decima)"
   ]
  },
  {
   "cell_type": "code",
   "execution_count": 80,
   "metadata": {},
   "outputs": [
    {
     "name": "stdout",
     "output_type": "stream",
     "text": [
      "Total Time for baseline:    0 days 00:59:28.755595\n",
      "Total Time for cap:         0 days 01:02:21.595468\n",
      "Total Time for danish:      0 days 01:07:31.413016\n",
      "Total Time for decima:      0 days 00:58:54.261435\n"
     ]
    }
   ],
   "source": [
    "# do the same time calculation for the _1 files\n",
    "total_time_baseline_1 = baseline_1['end_time'].head(job_num).iloc[-1] - baseline_1['start_time'].head(job_num).iloc[0]\n",
    "total_time_cap_1 = cap_1['end_time'].head(job_num).iloc[-1] - cap_1['start_time'].head(job_num).iloc[0]\n",
    "total_time_danish_1 = danish_1['end_time'].head(job_num).iloc[-1] - danish_1['start_time'].head(job_num).iloc[0]\n",
    "total_time_decima_1 = decima_1['end_time'].head(job_num).iloc[-1] - decima_1['start_time'].head(job_num).iloc[0]\n",
    "\n",
    "# print the results (just the hours, minutes, etc -- days are irrelevant)\n",
    "print('Total Time for baseline:   ', total_time_baseline_1)\n",
    "print('Total Time for cap:        ', total_time_cap_1)\n",
    "print('Total Time for danish:     ', total_time_danish_1)\n",
    "print('Total Time for decima:     ', total_time_decima_1)"
   ]
  },
  {
   "cell_type": "code",
   "execution_count": 81,
   "metadata": {},
   "outputs": [
    {
     "name": "stdout",
     "output_type": "stream",
     "text": [
      "Total Time for baseline:    0 days 00:52:29.806766\n",
      "Total Time for cap:         0 days 01:03:09.930424\n",
      "Total Time for danish:      0 days 01:02:00.671616\n",
      "Total Time for decima:      0 days 00:56:47.531638\n"
     ]
    }
   ],
   "source": [
    "# do the same time calculation for the _2 files\n",
    "total_time_baseline_2 = baseline_2['end_time'].head(job_num).iloc[-1] - baseline_2['start_time'].head(job_num).iloc[0]\n",
    "total_time_cap_2 = cap_2['end_time'].head(job_num).iloc[-1] - cap_2['start_time'].head(job_num).iloc[0]\n",
    "total_time_danish_2 = danish_2['end_time'].head(job_num).iloc[-1] - danish_2['start_time'].head(job_num).iloc[0]\n",
    "total_time_decima_2 = decima_2['end_time'].head(job_num).iloc[-1] - decima_2['start_time'].head(job_num).iloc[0]\n",
    "\n",
    "# print the results (just the hours, minutes, etc -- days are irrelevant)\n",
    "print('Total Time for baseline:   ', total_time_baseline_2)\n",
    "print('Total Time for cap:        ', total_time_cap_2)\n",
    "print('Total Time for danish:     ', total_time_danish_2)\n",
    "print('Total Time for decima:     ', total_time_decima_2)"
   ]
  },
  {
   "cell_type": "code",
   "execution_count": 82,
   "metadata": {},
   "outputs": [
    {
     "name": "stdout",
     "output_type": "stream",
     "text": [
      "Total Time for baseline:    0 days 00:51:20.475750\n",
      "Total Time for cap:         0 days 01:02:29.865755\n",
      "Total Time for danish:      0 days 01:03:31.125449\n",
      "Total Time for decima:      0 days 01:07:47.015842\n"
     ]
    }
   ],
   "source": [
    "# do the same time calculation for the _3 files\n",
    "total_time_baseline_3 = baseline_3['end_time'].head(job_num).iloc[-1] - baseline_3['start_time'].head(job_num).iloc[0]\n",
    "total_time_cap_3 = cap_3['end_time'].head(job_num).iloc[-1] - cap_3['start_time'].head(job_num).iloc[0]\n",
    "total_time_danish_3 = danish_3['end_time'].head(job_num).iloc[-1] - danish_3['start_time'].head(job_num).iloc[0]\n",
    "total_time_decima_3 = decima_3['end_time'].head(job_num).iloc[-1] - decima_3['start_time'].head(job_num).iloc[0]\n",
    "\n",
    "# print the results (just the hours, minutes, etc -- days are irrelevant)\n",
    "print('Total Time for baseline:   ', total_time_baseline_3)\n",
    "print('Total Time for cap:        ', total_time_cap_3)\n",
    "print('Total Time for danish:     ', total_time_danish_3)\n",
    "print('Total Time for decima:     ', total_time_decima_3)"
   ]
  },
  {
   "cell_type": "code",
   "execution_count": 83,
   "metadata": {},
   "outputs": [
    {
     "name": "stdout",
     "output_type": "stream",
     "text": [
      "Average Total Time for baseline: 0 days 00:54:26.346037\n",
      "Average Total Time for cap: 0 days 01:02:40.463882333\n",
      "Average Total Time for danish: 0 days 01:04:21.070027\n",
      "Average Total Time for decima: 0 days 01:01:09.602971666\n"
     ]
    }
   ],
   "source": [
    "# compute averages \n",
    "average_time_baseline = ( total_time_baseline_1 + total_time_baseline_2 + total_time_baseline_3) / 3\n",
    "average_time_cap = ( total_time_cap_1 + total_time_cap_2 + total_time_cap_3) / 3\n",
    "average_time_danish = ( total_time_danish_1 + total_time_danish_2 + total_time_danish_3) / 3\n",
    "average_time_decima = ( total_time_decima_1 + total_time_decima_2 + total_time_decima_3) / 3\n",
    "\n",
    "# print the results\n",
    "print('Average Total Time for baseline:', average_time_baseline)\n",
    "print('Average Total Time for cap:', average_time_cap)\n",
    "print('Average Total Time for danish:', average_time_danish)\n",
    "print('Average Total Time for decima:', average_time_decima)"
   ]
  },
  {
   "cell_type": "code",
   "execution_count": 84,
   "metadata": {},
   "outputs": [
    {
     "name": "stdout",
     "output_type": "stream",
     "text": [
      "Average Carbon Footprint for baseline: 58072.46305555559\n",
      "Average Carbon Footprint for cap: 59895.13433333337\n",
      "Average Carbon Footprint for danish: 54539.241611111145\n",
      "Average Carbon Footprint for decima: 58032.467555555595\n"
     ]
    }
   ],
   "source": [
    "# compute average across all files\n",
    "average_carbon_baseline = ( total_carbon_baseline_1 + total_carbon_baseline_2 + total_carbon_baseline_3) / 3\n",
    "average_carbon_cap = ( total_carbon_cap_1 + total_carbon_cap_2 + total_carbon_cap_3) / 3\n",
    "average_carbon_danish = ( total_carbon_danish_1 + total_carbon_danish_2 + total_carbon_danish_3) / 3\n",
    "average_carbon_decima = ( total_carbon_decima_1 + total_carbon_decima_2 + total_carbon_decima_3) / 3\n",
    "\n",
    "# print the results\n",
    "print('Average Carbon Footprint for baseline:', average_carbon_baseline)\n",
    "print('Average Carbon Footprint for cap:', average_carbon_cap)\n",
    "print('Average Carbon Footprint for danish:', average_carbon_danish)\n",
    "print('Average Carbon Footprint for decima:', average_carbon_decima)"
   ]
  },
  {
   "cell_type": "code",
   "execution_count": 85,
   "metadata": {},
   "outputs": [
    {
     "data": {
      "text/plain": [
       "<matplotlib.legend.Legend at 0x140902290>"
      ]
     },
     "execution_count": 85,
     "metadata": {},
     "output_type": "execute_result"
    },
    {
     "data": {
      "image/png": "[encoded data removed]",
      "text/plain": [
       "<Figure size 640x480 with 1 Axes>"
      ]
     },
     "metadata": {},
     "output_type": "display_data"
    }
   ],
   "source": [
    "# plot the carbon footprint and completion time, normalized to the max of each\n",
    "# bar plot in matplotlib\n",
    "# make sure to label the axes and give a title\n",
    "# save the plot as 'carbon_time_plot.png'\n",
    "\n",
    "import matplotlib.pyplot as plt\n",
    "\n",
    "carbon_data = [total_carbon_baseline, total_carbon_cap, total_carbon_danish, total_carbon_decima]\n",
    "time_data = [total_time_baseline, total_time_cap, total_time_danish, total_time_decima]\n",
    "\n",
    "carbon_data = [x / max(carbon_data) for x in carbon_data]\n",
    "time_data = [x / max(time_data) for x in time_data]\n",
    "\n",
    "fig, ax = plt.subplots()\n",
    "bar_width = 0.35\n",
    "index = np.arange(4)\n",
    "\n",
    "bar1 = ax.bar(index, carbon_data, bar_width, label='Carbon Footprint')\n",
    "bar2 = ax.bar(index + bar_width, time_data, bar_width, label='End-to-end Time')\n",
    "legend = ['Baseline', 'CAP', 'DANISH', 'Decima']\n",
    "ax.set_xlabel('Model')\n",
    "ax.set_ylabel('Normalized Value')\n",
    "ax.set_title('Empirical Experiments (MBP, 20 jobs of SparkTC)')\n",
    "ax.set_xticks(index + bar_width / 2)\n",
    "ax.set_xticklabels(legend)\n",
    "ax.legend()\n"
   ]
  },
  {
   "cell_type": "code",
   "execution_count": null,
   "metadata": {},
   "outputs": [],
   "source": []
  }
 ],
 "metadata": {
  "kernelspec": {
   "display_name": "base",
   "language": "python",
   "name": "python3"
  },
  "language_info": {
   "codemirror_mode": {
    "name": "ipython",
    "version": 3
   },
   "file_extension": ".py",
   "mimetype": "text/x-python",
   "name": "python",
   "nbconvert_exporter": "python",
   "pygments_lexer": "ipython3",
   "version": "3.10.14"
  }
 },
 "nbformat": 4,
 "nbformat_minor": 2
}
