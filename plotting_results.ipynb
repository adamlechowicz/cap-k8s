{
 "cells": [
  {
   "cell_type": "code",
   "execution_count": 39,
   "metadata": {},
   "outputs": [],
   "source": [
    "import numpy as np \n",
    "import pandas as pd\n",
    "import matplotlib.pyplot as plt\n",
    "import seaborn as sns\n"
   ]
  },
  {
   "cell_type": "code",
   "execution_count": 40,
   "metadata": {},
   "outputs": [
    {
     "name": "stdout",
     "output_type": "stream",
     "text": [
      "   job_id                 start_time                   end_time  \\\n",
      "0       0 2024-12-01 16:02:58.054007 2024-12-01 16:06:24.486653   \n",
      "1       1 2024-12-01 16:03:00.063833 2024-12-01 16:06:24.486720   \n",
      "2       2 2024-12-01 16:03:02.073445 2024-12-01 16:06:24.486744   \n",
      "3       3 2024-12-01 16:06:24.493353 2024-12-01 16:09:51.503236   \n",
      "4       4 2024-12-01 16:06:26.501406 2024-12-01 16:09:51.503267   \n",
      "\n",
      "   carbon_footprint  \n",
      "0          1703.164  \n",
      "1          1803.340  \n",
      "2          1803.340  \n",
      "3          1779.782  \n",
      "4          1779.782  \n",
      "   job_id                 start_time                   end_time  \\\n",
      "0       0 2024-12-01 17:16:00.141848 2024-12-01 17:18:44.914319   \n",
      "1       1 2024-12-01 17:16:02.152033 2024-12-01 17:21:15.433243   \n",
      "2      15 2024-12-01 17:18:44.920588 2024-12-01 17:23:43.881508   \n",
      "3      27 2024-12-01 17:21:03.164260 2024-12-01 17:26:14.161831   \n",
      "4      40 2024-12-01 17:23:43.889550 2024-12-01 17:28:44.146270   \n",
      "\n",
      "   carbon_footprint  \n",
      "0          1100.132  \n",
      "1          1101.948  \n",
      "2          1264.550  \n",
      "3          1117.404  \n",
      "4          1112.520  \n",
      "   job_id                 start_time                   end_time  \\\n",
      "0       0 2024-12-01 19:09:19.126688 2024-12-01 19:12:47.020555   \n",
      "1       1 2024-12-01 19:09:21.136139 2024-12-01 19:12:59.730556   \n",
      "2       2 2024-12-01 19:09:23.146296 2024-12-01 19:12:59.730609   \n",
      "3       4 2024-12-01 19:12:59.737165 2024-12-01 19:17:27.981464   \n",
      "4       5 2024-12-01 19:13:01.742440 2024-12-01 19:17:27.981511   \n",
      "\n",
      "   carbon_footprint  \n",
      "0          1803.340  \n",
      "1          2003.692  \n",
      "2          1953.712  \n",
      "3          1852.528  \n",
      "4          2037.948  \n",
      "   job_id                 start_time                   end_time  \\\n",
      "0       0 2024-12-02 13:07:20.555352 2024-12-02 13:11:09.955910   \n",
      "1       1 2024-12-02 13:07:22.564492 2024-12-02 13:11:09.955972   \n",
      "2       2 2024-12-02 13:07:24.585656 2024-12-02 13:11:24.098389   \n",
      "3       3 2024-12-02 13:11:09.959438 2024-12-02 13:14:58.930398   \n",
      "4       4 2024-12-02 13:11:11.962677 2024-12-02 13:14:58.930478   \n",
      "\n",
      "   carbon_footprint  \n",
      "0          2003.746  \n",
      "1          1903.516  \n",
      "2          2003.692  \n",
      "3          2748.226  \n",
      "4          2748.226  \n"
     ]
    }
   ],
   "source": [
    "# open four csv files: job_times_{baseline, cap, danish, decima}.csv\n",
    "# parse datetimes for the 'start_time' and 'end_time' columns\n",
    "\n",
    "baseline = pd.read_csv('job_times_baseline.csv', parse_dates=['start_time', 'end_time'])\n",
    "cap = pd.read_csv('job_times_cap.csv', parse_dates=['start_time', 'end_time'])\n",
    "danish = pd.read_csv('job_times_danish.csv', parse_dates=['start_time', 'end_time'])\n",
    "decima = pd.read_csv('job_times_decima.csv', parse_dates=['start_time', 'end_time'])\n",
    "\n",
    "# drop last few rows that have no data\n",
    "baseline = baseline.dropna()\n",
    "cap = cap.dropna()\n",
    "danish = danish.dropna()\n",
    "decima = decima.dropna()\n",
    "\n",
    "# view the head of each\n",
    "print(baseline.head())\n",
    "print(cap.head())\n",
    "print(danish.head())\n",
    "print(decima.head())"
   ]
  },
  {
   "cell_type": "code",
   "execution_count": null,
   "metadata": {},
   "outputs": [],
   "source": []
  },
  {
   "cell_type": "code",
   "execution_count": 41,
   "metadata": {},
   "outputs": [
    {
     "name": "stdout",
     "output_type": "stream",
     "text": [
      "Total Carbon Footprint for baseline: 40031.06200000001\n",
      "Total Carbon Footprint for cap: 32700.631\n",
      "Total Carbon Footprint for danish: 38005.73099999999\n",
      "Total Carbon Footprint for decima: 47596.822\n"
     ]
    }
   ],
   "source": [
    "# for each of the four dataframes, compute the total carbon footprint for the first 20 rows (sum of all the carbon footprints)\n",
    "total_carbon_baseline = baseline['carbon_footprint'].head(20).sum()\n",
    "total_carbon_cap = cap['carbon_footprint'].head(20).sum()\n",
    "total_carbon_danish = danish['carbon_footprint'].head(20).sum()\n",
    "total_carbon_decima = decima['carbon_footprint'].head(20).sum()\n",
    "\n",
    "# print the results\n",
    "print('Total Carbon Footprint for baseline:', total_carbon_baseline)\n",
    "print('Total Carbon Footprint for cap:', total_carbon_cap)\n",
    "print('Total Carbon Footprint for danish:', total_carbon_danish)\n",
    "print('Total Carbon Footprint for decima:', total_carbon_decima)\n"
   ]
  },
  {
   "cell_type": "code",
   "execution_count": 42,
   "metadata": {},
   "outputs": [
    {
     "name": "stdout",
     "output_type": "stream",
     "text": [
      "Total Time for baseline:    0 days 00:29:58.018422\n",
      "Total Time for cap:         0 days 00:39:07.108576\n",
      "Total Time for danish:      0 days 00:27:02.123192\n",
      "Total Time for decima:      0 days 00:35:03.817435\n"
     ]
    }
   ],
   "source": [
    "# for each of the four dataframes, compute the total time\n",
    "# total time is the difference between start_time in the first row and the end_time in the last row\n",
    "# all of these are datetime objects\n",
    "total_time_baseline = baseline['end_time'].head(20).iloc[-1] - baseline['start_time'].head(20).iloc[0]\n",
    "total_time_cap = cap['end_time'].head(20).iloc[-1] - cap['start_time'].head(20).iloc[0]\n",
    "total_time_danish = danish['end_time'].head(20).iloc[-1] - danish['start_time'].head(20).iloc[0]\n",
    "total_time_decima = decima['end_time'].head(20).iloc[-1] - decima['start_time'].head(20).iloc[0]\n",
    "\n",
    "# print the results (just the hours, minutes, etc -- days are irrelevant)\n",
    "print('Total Time for baseline:   ', total_time_baseline)\n",
    "print('Total Time for cap:        ', total_time_cap)\n",
    "print('Total Time for danish:     ', total_time_danish)\n",
    "print('Total Time for decima:     ', total_time_decima)"
   ]
  },
  {
   "cell_type": "markdown",
   "metadata": {},
   "source": []
  },
  {
   "cell_type": "code",
   "execution_count": null,
   "metadata": {},
   "outputs": [],
   "source": []
  },
  {
   "cell_type": "code",
   "execution_count": null,
   "metadata": {},
   "outputs": [],
   "source": []
  }
 ],
 "metadata": {
  "kernelspec": {
   "display_name": "base",
   "language": "python",
   "name": "python3"
  },
  "language_info": {
   "codemirror_mode": {
    "name": "ipython",
    "version": 3
   },
   "file_extension": ".py",
   "mimetype": "text/x-python",
   "name": "python",
   "nbconvert_exporter": "python",
   "pygments_lexer": "ipython3",
   "version": "3.10.14"
  }
 },
 "nbformat": 4,
 "nbformat_minor": 2
}
