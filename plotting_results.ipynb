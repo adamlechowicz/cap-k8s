{
 "cells": [
  {
   "cell_type": "code",
   "execution_count": 86,
   "metadata": {},
   "outputs": [],
   "source": [
    "import numpy as np \n",
    "import pandas as pd\n",
    "import matplotlib.pyplot as plt\n",
    "import seaborn as sns\n"
   ]
  },
  {
   "cell_type": "code",
   "execution_count": 87,
   "metadata": {},
   "outputs": [
    {
     "name": "stdout",
     "output_type": "stream",
     "text": [
      "   job_id                 start_time                   end_time  \\\n",
      "0       0 2024-12-11 01:57:41.797874 2024-12-11 01:58:36.947619   \n",
      "1       1 2024-12-11 01:57:47.857531 2024-12-11 01:58:31.323210   \n",
      "2       2 2024-12-11 01:57:49.078839 2024-12-11 01:59:49.875949   \n",
      "3       3 2024-12-11 01:58:19.419802 2024-12-11 02:00:24.622375   \n",
      "4       4 2024-12-11 01:58:22.227967 2024-12-11 02:10:47.507280   \n",
      "\n",
      "   carbon_footprint                                          executors  \n",
      "0        149.445333  [('58:12', 'tpc-h-v3-0-0-spark-7d7f4b93b36fea5...  \n",
      "1         18.680667  [('58:17', 'tpc-h-v3-0-0-spark-30297b93b370058...  \n",
      "2        360.810167  [('58:18', 'tpc-h-v3-0-0-spark-e7982893b370084...  \n",
      "3        278.740667  [('58:49', 'tpc-h-v3-0-0-spark-8c4fff93b3707ce...  \n",
      "4       1583.288833  [('58:49', 'tpc-h-v3-0-0-spark-d34bc193b370871...  \n",
      "   job_id                 start_time                   end_time  \\\n",
      "0       0 2024-12-11 02:22:02.047563 2024-12-11 02:22:43.404995   \n",
      "1       1 2024-12-11 02:22:39.894381 2024-12-11 02:23:32.990783   \n",
      "2       2 2024-12-11 02:22:42.247313 2024-12-11 02:24:42.645242   \n",
      "3       3 2024-12-11 02:23:08.323864 2024-12-11 02:27:40.596741   \n",
      "4       5 2024-12-11 02:24:39.856860 2024-12-11 02:26:50.596061   \n",
      "\n",
      "   carbon_footprint                                          executors  \n",
      "0         42.031500  [('22:28', 'tpc-h-v3-0-0-spark-b20ad793b3862a6...  \n",
      "1        248.896833  [('23:07', 'tpc-h-v3-0-0-spark-642f1d93b386bd8...  \n",
      "2        437.179667  [('23:07', 'tpc-h-v3-0-0-spark-02fa9f93b386c65...  \n",
      "3       2025.814833  [('23:33', 'tpc-h-v3-0-0-spark-f5f4ee93b38729a...  \n",
      "4        284.315500  [('25:09', 'tpc-h-v3-0-0-spark-1ed67a93b38893b...  \n",
      "   job_id                 start_time                   end_time  \\\n",
      "0       0 2024-12-11 02:37:02.567725 2024-12-11 02:37:38.671430   \n",
      "1       1 2024-12-11 02:37:10.674895 2024-12-11 02:38:31.059026   \n",
      "2       2 2024-12-11 02:38:03.211951 2024-12-11 02:39:18.888834   \n",
      "3       3 2024-12-11 02:39:09.276595 2024-12-11 02:39:53.243480   \n",
      "4       4 2024-12-11 02:39:55.552565 2024-12-11 02:40:41.552309   \n",
      "\n",
      "   carbon_footprint                                          executors  \n",
      "0         28.021000  [('37:27', 'tpc-h-v3-0-0-spark-d075e993b393e40...  \n",
      "1        177.986333  [('37:37', 'tpc-h-v3-0-0-spark-d7dd1093b394054...  \n",
      "2        172.716833  [('38:26', 'tpc-h-v3-0-0-spark-9f8d4293b394d06...  \n",
      "3         78.225500  [('39:37', 'tpc-h-v3-0-0-spark-dfc16a93b395d87...  \n",
      "4         87.485500  [('40:23', 'tpc-h-v3-0-0-spark-53156493b3968ac...  \n",
      "   job_id                 start_time                   end_time  \\\n",
      "0       0 2024-12-11 02:53:57.773081 2024-12-11 02:54:35.505219   \n",
      "1       1 2024-12-11 02:55:03.974370 2024-12-11 02:55:43.650634   \n",
      "2       2 2024-12-11 02:55:11.076731 2024-12-11 02:56:31.335128   \n",
      "3       3 2024-12-11 02:56:24.889012 2024-12-11 02:57:42.437317   \n",
      "4       4 2024-12-11 02:56:38.163066 2024-12-11 02:57:21.595098   \n",
      "\n",
      "   carbon_footprint                                          executors  \n",
      "0         37.361333  [('54:22', 'tpc-h-v3-0-0-spark-19de0293b3a361c...  \n",
      "1         37.569333  [('55:29', 'tpc-h-v3-0-0-spark-9cfc1993b3a4660...  \n",
      "2        166.979333  [('55:38', 'tpc-h-v3-0-0-spark-deecb993b3a4846...  \n",
      "3        115.097500  [('56:50', 'tpc-h-v3-0-0-spark-c7312893b3a5a23...  \n",
      "4         87.485500  [('57:03', 'tpc-h-v3-0-0-spark-0f1d4d93b3a5d65...  \n"
     ]
    }
   ],
   "source": [
    "# open several csv files: results/{default, cap, danish, decima}/tpch_{job_num}_{trace}/times_{0,1,2,3}.csv\n",
    "# parse datetimes for the 'start_time' and 'end_time' columns\n",
    "job_num = 25\n",
    "trace = \"CAISO\"\n",
    "\n",
    "baseline_0 = pd.read_csv(f'results/default/tpch_{job_num}_{trace}/times_0.csv', parse_dates=['start_time', 'end_time'])\n",
    "baseline_1 = pd.read_csv(f'results/default/tpch_{job_num}_{trace}/times_1.csv', parse_dates=['start_time', 'end_time'])\n",
    "baseline_2 = pd.read_csv(f'results/default/tpch_{job_num}_{trace}/times_2.csv', parse_dates=['start_time', 'end_time'])\n",
    "baseline_3 = pd.read_csv(f'results/default/tpch_{job_num}_{trace}/times_3.csv', parse_dates=['start_time', 'end_time'])\n",
    "\n",
    "cap_0 = pd.read_csv(f'results/cap/tpch_{job_num}_{trace}/times_0.csv', parse_dates=['start_time', 'end_time'])\n",
    "cap_1 = pd.read_csv(f'results/cap/tpch_{job_num}_{trace}/times_1.csv', parse_dates=['start_time', 'end_time'])\n",
    "cap_2 = pd.read_csv(f'results/cap/tpch_{job_num}_{trace}/times_2.csv', parse_dates=['start_time', 'end_time'])\n",
    "cap_3 = pd.read_csv(f'results/cap/tpch_{job_num}_{trace}/times_3.csv', parse_dates=['start_time', 'end_time'])\n",
    "\n",
    "danish_0 = pd.read_csv(f'results/danish/tpch_{job_num}_{trace}/times_0.csv', parse_dates=['start_time', 'end_time'])\n",
    "danish_1 = pd.read_csv(f'results/danish/tpch_{job_num}_{trace}/times_1.csv', parse_dates=['start_time', 'end_time'])\n",
    "danish_2 = pd.read_csv(f'results/danish/tpch_{job_num}_{trace}/times_2.csv', parse_dates=['start_time', 'end_time'])\n",
    "danish_3 = pd.read_csv(f'results/danish/tpch_{job_num}_{trace}/times_3.csv', parse_dates=['start_time', 'end_time'])\n",
    "\n",
    "decima_0 = pd.read_csv(f'results/decima/tpch_{job_num}_{trace}/times_0.csv', parse_dates=['start_time', 'end_time'])\n",
    "decima_1 = pd.read_csv(f'results/decima/tpch_{job_num}_{trace}/times_1.csv', parse_dates=['start_time', 'end_time'])\n",
    "decima_2 = pd.read_csv(f'results/decima/tpch_{job_num}_{trace}/times_2.csv', parse_dates=['start_time', 'end_time'])\n",
    "decima_3 = pd.read_csv(f'results/decima/tpch_{job_num}_{trace}/times_3.csv', parse_dates=['start_time', 'end_time'])\n",
    "\n",
    "# drop rows that have no data\n",
    "baseline_0 = baseline_0.dropna()\n",
    "baseline_1 = baseline_1.dropna()\n",
    "baseline_2 = baseline_2.dropna()\n",
    "baseline_3 = baseline_3.dropna()\n",
    "\n",
    "cap_0 = cap_0.dropna()\n",
    "cap_1 = cap_1.dropna()\n",
    "cap_2 = cap_2.dropna()\n",
    "cap_3 = cap_3.dropna()\n",
    "\n",
    "danish_0 = danish_0.dropna()\n",
    "danish_1 = danish_1.dropna()\n",
    "danish_2 = danish_2.dropna()\n",
    "danish_3 = danish_3.dropna()\n",
    "\n",
    "decima_0 = decima_0.dropna()\n",
    "decima_1 = decima_1.dropna()\n",
    "decima_2 = decima_2.dropna()\n",
    "decima_3 = decima_3.dropna()\n",
    "\n",
    "dfs = [baseline_0, baseline_1, baseline_2, baseline_3, cap_0, cap_1, cap_2, cap_3, danish_0, danish_1, danish_2, danish_3, decima_0, decima_1, decima_2, decima_3]\n",
    "\n",
    "# view the head of first 4\n",
    "print(baseline_0.head())\n",
    "print(cap_0.head())\n",
    "print(danish_0.head())\n",
    "print(decima_0.head())"
   ]
  },
  {
   "cell_type": "code",
   "execution_count": null,
   "metadata": {},
   "outputs": [],
   "source": []
  },
  {
   "cell_type": "code",
   "execution_count": 88,
   "metadata": {},
   "outputs": [
    {
     "name": "stdout",
     "output_type": "stream",
     "text": [
      "Total Carbon Footprint for baseline: 14833.82133333331\n",
      "Total Carbon Footprint for cap: 7244.438666666669\n",
      "Total Carbon Footprint for danish: 6938.5109999999995\n",
      "Total Carbon Footprint for decima: 13878.457666666638\n"
     ]
    }
   ],
   "source": [
    "# for each of the four dataframes, compute the total carbon footprint for the first 20 rows (sum of all the carbon footprints)\n",
    "total_carbon_baseline = baseline_0['carbon_footprint'].head(100).sum()\n",
    "total_carbon_cap = cap_0['carbon_footprint'].head(100).sum()\n",
    "total_carbon_danish = danish_0['carbon_footprint'].head(100).sum()\n",
    "total_carbon_decima = decima_0['carbon_footprint'].head(100).sum()\n",
    "\n",
    "# print the results\n",
    "print('Total Carbon Footprint for baseline:', total_carbon_baseline)\n",
    "print('Total Carbon Footprint for cap:', total_carbon_cap)\n",
    "print('Total Carbon Footprint for danish:', total_carbon_danish)\n",
    "print('Total Carbon Footprint for decima:', total_carbon_decima)\n"
   ]
  },
  {
   "cell_type": "code",
   "execution_count": 89,
   "metadata": {},
   "outputs": [
    {
     "name": "stdout",
     "output_type": "stream",
     "text": [
      "Total Carbon Footprint for baseline_1: 10754.909166666654\n",
      "Total Carbon Footprint for cap_1: 9484.640999999998\n",
      "Total Carbon Footprint for danish_1: 5917.2165\n",
      "Total Carbon Footprint for decima_1: 10128.690500000019\n"
     ]
    }
   ],
   "source": [
    "# do the same thing for the _1 files\n",
    "total_carbon_baseline_1 = baseline_1['carbon_footprint'].head(100).sum()\n",
    "total_carbon_cap_1 = cap_1['carbon_footprint'].head(100).sum()\n",
    "total_carbon_danish_1 = danish_1['carbon_footprint'].head(100).sum()\n",
    "total_carbon_decima_1 = decima_1['carbon_footprint'].head(100).sum()\n",
    "\n",
    "# print the results\n",
    "print('Total Carbon Footprint for baseline_1:', total_carbon_baseline_1)\n",
    "print('Total Carbon Footprint for cap_1:', total_carbon_cap_1)\n",
    "print('Total Carbon Footprint for danish_1:', total_carbon_danish_1)\n",
    "print('Total Carbon Footprint for decima_1:', total_carbon_decima_1)"
   ]
  },
  {
   "cell_type": "code",
   "execution_count": 90,
   "metadata": {},
   "outputs": [
    {
     "name": "stdout",
     "output_type": "stream",
     "text": [
      "Total Carbon Footprint for baseline_2: 13639.355999999972\n",
      "Total Carbon Footprint for cap_2: 8956.006999999992\n",
      "Total Carbon Footprint for danish_2: 5877.2893333333495\n",
      "Total Carbon Footprint for decima_2: 7876.924499999977\n"
     ]
    }
   ],
   "source": [
    "# and the same for the _2 files\n",
    "total_carbon_baseline_2 = baseline_2['carbon_footprint'].head(100).sum()\n",
    "total_carbon_cap_2 = cap_2['carbon_footprint'].head(100).sum()\n",
    "total_carbon_danish_2 = danish_2['carbon_footprint'].head(100).sum()\n",
    "total_carbon_decima_2 = decima_2['carbon_footprint'].head(100).sum()\n",
    "\n",
    "# print the results\n",
    "print('Total Carbon Footprint for baseline_2:', total_carbon_baseline_2)\n",
    "print('Total Carbon Footprint for cap_2:', total_carbon_cap_2)\n",
    "print('Total Carbon Footprint for danish_2:', total_carbon_danish_2)\n",
    "print('Total Carbon Footprint for decima_2:', total_carbon_decima_2)"
   ]
  },
  {
   "cell_type": "code",
   "execution_count": 91,
   "metadata": {},
   "outputs": [
    {
     "name": "stdout",
     "output_type": "stream",
     "text": [
      "Total Carbon Footprint for baseline_3: 13120.622166666708\n",
      "Total Carbon Footprint for cap_3: 11274.874166666636\n",
      "Total Carbon Footprint for danish_3: 7531.004500000009\n",
      "Total Carbon Footprint for decima_3: 15211.543833333319\n"
     ]
    }
   ],
   "source": [
    "# and the same for the _3 files\n",
    "total_carbon_baseline_3 = baseline_3['carbon_footprint'].head(100).sum()\n",
    "total_carbon_cap_3 = cap_3['carbon_footprint'].head(100).sum()\n",
    "total_carbon_danish_3 = danish_3['carbon_footprint'].head(100).sum()\n",
    "total_carbon_decima_3 = decima_3['carbon_footprint'].head(100).sum()\n",
    "\n",
    "# print the results\n",
    "print('Total Carbon Footprint for baseline_3:', total_carbon_baseline_3)\n",
    "print('Total Carbon Footprint for cap_3:', total_carbon_cap_3)\n",
    "print('Total Carbon Footprint for danish_3:', total_carbon_danish_3)\n",
    "print('Total Carbon Footprint for decima_3:', total_carbon_decima_3)"
   ]
  },
  {
   "cell_type": "code",
   "execution_count": 92,
   "metadata": {},
   "outputs": [
    {
     "name": "stdout",
     "output_type": "stream",
     "text": [
      "Average Carbon Footprint for baseline: 13087.177166666661\n",
      "Average Carbon Footprint for cap: 9239.990208333322\n",
      "Average Carbon Footprint for danish: 6566.00533333334\n",
      "Average Carbon Footprint for decima: 11773.90412499999\n"
     ]
    }
   ],
   "source": [
    "# compute average across all files\n",
    "average_carbon_baseline = (total_carbon_baseline + total_carbon_baseline_1 + total_carbon_baseline_2 + total_carbon_baseline_3) / 4\n",
    "average_carbon_cap = (total_carbon_cap + total_carbon_cap_1 + total_carbon_cap_2 + total_carbon_cap_3) / 4\n",
    "average_carbon_danish = (total_carbon_danish + total_carbon_danish_1 + total_carbon_danish_2 + total_carbon_danish_3) / 4\n",
    "average_carbon_decima = (total_carbon_decima + total_carbon_decima_1 + total_carbon_decima_2 + total_carbon_decima_3) / 4\n",
    "\n",
    "# print the results\n",
    "print('Average Carbon Footprint for baseline:', average_carbon_baseline)\n",
    "print('Average Carbon Footprint for cap:', average_carbon_cap)\n",
    "print('Average Carbon Footprint for danish:', average_carbon_danish)\n",
    "print('Average Carbon Footprint for decima:', average_carbon_decima)"
   ]
  },
  {
   "cell_type": "code",
   "execution_count": 99,
   "metadata": {},
   "outputs": [
    {
     "name": "stdout",
     "output_type": "stream",
     "text": [
      "Total Time for baseline:    0 days 00:23:48.450551\n",
      "Total Time for cap:         0 days 00:12:36.866178\n",
      "Total Time for danish:      0 days 00:13:36.843942\n",
      "Total Time for decima:      0 days 00:14:27.218928\n"
     ]
    }
   ],
   "source": [
    "# for each of the four dataframes, compute the total time\n",
    "# total time is the difference between start_time in the first row and the end_time in the last row\n",
    "# all of these are datetime objects\n",
    "total_time_baseline = baseline_0['end_time'].head(job_num).iloc[-1] - baseline_0['start_time'].head(job_num).iloc[0]\n",
    "total_time_cap = cap_0['end_time'].head(job_num).iloc[-1] - cap_0['start_time'].head(job_num).iloc[0]\n",
    "total_time_danish = decima_0['end_time'].head(job_num).iloc[-1] - decima_0['start_time'].head(job_num).iloc[0]\n",
    "total_time_decima = danish_0['end_time'].head(job_num).iloc[-1] - danish_0['start_time'].head(job_num).iloc[0]\n",
    "\n",
    "# print the results (just the hours, minutes, etc -- days are irrelevant)\n",
    "print('Total Time for baseline:   ', total_time_baseline)\n",
    "print('Total Time for cap:        ', total_time_cap)\n",
    "print('Total Time for danish:     ', total_time_danish)\n",
    "print('Total Time for decima:     ', total_time_decima)"
   ]
  },
  {
   "cell_type": "code",
   "execution_count": 100,
   "metadata": {},
   "outputs": [
    {
     "name": "stdout",
     "output_type": "stream",
     "text": [
      "Total Time for baseline:    0 days 00:23:26.458618\n",
      "Total Time for cap:         0 days 00:19:01.264036\n",
      "Total Time for danish:      0 days 00:10:40.450872\n",
      "Total Time for decima:      0 days 00:13:04.237522\n"
     ]
    }
   ],
   "source": [
    "# do the same time calculation for the _1 files\n",
    "total_time_baseline_1 = baseline_1['end_time'].head(job_num).iloc[-1] - baseline_1['start_time'].head(job_num).iloc[0]\n",
    "total_time_cap_1 = cap_1['end_time'].head(job_num).iloc[-1] - cap_1['start_time'].head(job_num).iloc[0]\n",
    "total_time_danish_1 = decima_1['end_time'].head(job_num).iloc[-1] - decima_1['start_time'].head(job_num).iloc[0]\n",
    "total_time_decima_1 = danish_1['end_time'].head(job_num).iloc[-1] - danish_1['start_time'].head(job_num).iloc[0]\n",
    "\n",
    "# print the results (just the hours, minutes, etc -- days are irrelevant)\n",
    "print('Total Time for baseline:   ', total_time_baseline_1)\n",
    "print('Total Time for cap:        ', total_time_cap_1)\n",
    "print('Total Time for danish:     ', total_time_danish_1)\n",
    "print('Total Time for decima:     ', total_time_decima_1)"
   ]
  },
  {
   "cell_type": "code",
   "execution_count": 101,
   "metadata": {},
   "outputs": [
    {
     "name": "stdout",
     "output_type": "stream",
     "text": [
      "Total Time for baseline:    0 days 00:13:46.004474\n",
      "Total Time for cap:         0 days 00:17:29.637569\n",
      "Total Time for danish:      0 days 00:14:00.474552\n",
      "Total Time for decima:      0 days 00:11:09.741714\n"
     ]
    }
   ],
   "source": [
    "# do the same time calculation for the _2 files\n",
    "total_time_baseline_2 = baseline_2['end_time'].head(job_num).iloc[-1] - baseline_2['start_time'].head(job_num).iloc[0]\n",
    "total_time_cap_2 = cap_2['end_time'].head(job_num).iloc[-1] - cap_2['start_time'].head(job_num).iloc[0]\n",
    "total_time_danish_2 = decima_2['end_time'].head(job_num).iloc[-1] - decima_2['start_time'].head(job_num).iloc[0]\n",
    "total_time_decima_2 = danish_2['end_time'].head(job_num).iloc[-1] - danish_2['start_time'].head(job_num).iloc[0]\n",
    "\n",
    "# print the results (just the hours, minutes, etc -- days are irrelevant)\n",
    "print('Total Time for baseline:   ', total_time_baseline_2)\n",
    "print('Total Time for cap:        ', total_time_cap_2)\n",
    "print('Total Time for danish:     ', total_time_danish_2)\n",
    "print('Total Time for decima:     ', total_time_decima_2)"
   ]
  },
  {
   "cell_type": "code",
   "execution_count": 102,
   "metadata": {},
   "outputs": [
    {
     "name": "stdout",
     "output_type": "stream",
     "text": [
      "Total Time for baseline:    0 days 00:21:32.586115\n",
      "Total Time for cap:         0 days 00:23:05.579245\n",
      "Total Time for danish:      0 days 00:20:49.919650\n",
      "Total Time for decima:      0 days 00:18:33.310632\n"
     ]
    }
   ],
   "source": [
    "# do the same time calculation for the _3 files\n",
    "total_time_baseline_3 = baseline_3['end_time'].head(job_num).iloc[-1] - baseline_3['start_time'].head(job_num).iloc[0]\n",
    "total_time_cap_3 = cap_3['end_time'].head(job_num).iloc[-1] - cap_3['start_time'].head(job_num).iloc[0]\n",
    "total_time_danish_3 = decima_3['end_time'].head(job_num).iloc[-1] - decima_3['start_time'].head(job_num).iloc[0]\n",
    "total_time_decima_3 = danish_3['end_time'].head(job_num).iloc[-1] - danish_3['start_time'].head(job_num).iloc[0]\n",
    "\n",
    "# print the results (just the hours, minutes, etc -- days are irrelevant)\n",
    "print('Total Time for baseline:   ', total_time_baseline_3)\n",
    "print('Total Time for cap:        ', total_time_cap_3)\n",
    "print('Total Time for danish:     ', total_time_danish_3)\n",
    "print('Total Time for decima:     ', total_time_decima_3)"
   ]
  },
  {
   "cell_type": "code",
   "execution_count": 103,
   "metadata": {},
   "outputs": [
    {
     "name": "stdout",
     "output_type": "stream",
     "text": [
      "Average Total Time for baseline: 0 days 00:19:35.016402333\n",
      "Average Total Time for cap: 0 days 00:19:52.160283333\n",
      "Average Total Time for danish: 0 days 00:15:10.281691333\n",
      "Average Total Time for decima: 0 days 00:14:15.763289333\n"
     ]
    }
   ],
   "source": [
    "# compute averages \n",
    "average_time_baseline = ( total_time_baseline_1 + total_time_baseline_2 + total_time_baseline_3) / 3\n",
    "average_time_cap = ( total_time_cap_1 + total_time_cap_2 + total_time_cap_3) / 3\n",
    "average_time_danish = ( total_time_danish_1 + total_time_danish_2 + total_time_danish_3) / 3\n",
    "average_time_decima = ( total_time_decima_1 + total_time_decima_2 + total_time_decima_3) / 3\n",
    "\n",
    "# print the results\n",
    "print('Average Total Time for baseline:', average_time_baseline)\n",
    "print('Average Total Time for cap:', average_time_cap)\n",
    "print('Average Total Time for danish:', average_time_danish)\n",
    "print('Average Total Time for decima:', average_time_decima)"
   ]
  },
  {
   "cell_type": "code",
   "execution_count": 104,
   "metadata": {},
   "outputs": [
    {
     "name": "stdout",
     "output_type": "stream",
     "text": [
      "Average Carbon Footprint for baseline: 12504.962444444443\n",
      "Average Carbon Footprint for cap: 9905.174055555543\n",
      "Average Carbon Footprint for danish: 6441.836777777787\n",
      "Average Carbon Footprint for decima: 11072.386277777774\n"
     ]
    }
   ],
   "source": [
    "# compute average across all files\n",
    "average_carbon_baseline = ( total_carbon_baseline_1 + total_carbon_baseline_2 + total_carbon_baseline_3) / 3\n",
    "average_carbon_cap = ( total_carbon_cap_1 + total_carbon_cap_2 + total_carbon_cap_3) / 3\n",
    "average_carbon_danish = ( total_carbon_danish_1 + total_carbon_danish_2 + total_carbon_danish_3) / 3\n",
    "average_carbon_decima = ( total_carbon_decima_1 + total_carbon_decima_2 + total_carbon_decima_3) / 3\n",
    "\n",
    "# print the results\n",
    "print('Average Carbon Footprint for baseline:', average_carbon_baseline)\n",
    "print('Average Carbon Footprint for cap:', average_carbon_cap)\n",
    "print('Average Carbon Footprint for danish:', average_carbon_danish)\n",
    "print('Average Carbon Footprint for decima:', average_carbon_decima)"
   ]
  },
  {
   "cell_type": "code",
   "execution_count": 107,
   "metadata": {},
   "outputs": [
    {
     "data": {
      "text/plain": [
       "<matplotlib.legend.Legend at 0x140a71540>"
      ]
     },
     "execution_count": 107,
     "metadata": {},
     "output_type": "execute_result"
    },
    {
     "data": {
      "image/png": "[encoded data removed]",
      "text/plain": [
       "<Figure size 640x480 with 1 Axes>"
      ]
     },
     "metadata": {},
     "output_type": "display_data"
    }
   ],
   "source": [
    "# plot the carbon footprint and completion time, normalized to the max of each\n",
    "# bar plot in matplotlib\n",
    "# make sure to label the axes and give a title\n",
    "# save the plot as 'carbon_time_plot.png'\n",
    "\n",
    "import matplotlib.pyplot as plt\n",
    "\n",
    "carbon_data = [average_carbon_baseline, average_carbon_cap, average_carbon_danish, average_carbon_decima]\n",
    "time_data = [average_time_baseline, average_time_cap, average_time_danish, average_time_decima]\n",
    "\n",
    "carbon_data = [x / max(carbon_data) for x in carbon_data]\n",
    "time_data = [x / max(time_data) for x in time_data]\n",
    "\n",
    "fig, ax = plt.subplots()\n",
    "bar_width = 0.35\n",
    "index = np.arange(4)\n",
    "\n",
    "bar1 = ax.bar(index, carbon_data, bar_width, label='Carbon Footprint')\n",
    "bar2 = ax.bar(index + bar_width, time_data, bar_width, label='End-to-end Time')\n",
    "legend = ['Baseline', 'CAP', 'DANISH', 'Decima']\n",
    "ax.set_xlabel('Model')\n",
    "ax.set_ylabel('Normalized Value')\n",
    "ax.set_title('Empirical Experiments (cluster, 25 TPC-H jobs, CAISO)')\n",
    "ax.set_xticks(index + bar_width / 2)\n",
    "ax.set_xticklabels(legend)\n",
    "ax.legend()\n"
   ]
  },
  {
   "cell_type": "code",
   "execution_count": null,
   "metadata": {},
   "outputs": [],
   "source": []
  }
 ],
 "metadata": {
  "kernelspec": {
   "display_name": "base",
   "language": "python",
   "name": "python3"
  },
  "language_info": {
   "codemirror_mode": {
    "name": "ipython",
    "version": 3
   },
   "file_extension": ".py",
   "mimetype": "text/x-python",
   "name": "python",
   "nbconvert_exporter": "python",
   "pygments_lexer": "ipython3",
   "version": "3.10.14"
  }
 },
 "nbformat": 4,
 "nbformat_minor": 2
}
