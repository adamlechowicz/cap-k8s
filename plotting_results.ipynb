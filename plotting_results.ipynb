{
 "cells": [
  {
   "cell_type": "code",
   "execution_count": 24,
   "metadata": {},
   "outputs": [],
   "source": [
    "import numpy as np \n",
    "import pandas as pd\n",
    "import matplotlib.pyplot as plt\n",
    "import seaborn as sns\n"
   ]
  },
  {
   "cell_type": "code",
   "execution_count": 25,
   "metadata": {},
   "outputs": [
    {
     "name": "stdout",
     "output_type": "stream",
     "text": [
      "   job_id                 start_time                   end_time  \\\n",
      "0       0 2024-12-01 16:02:58.054007 2024-12-01 16:06:24.486653   \n",
      "1       1 2024-12-01 16:03:00.063833 2024-12-01 16:06:24.486720   \n",
      "2       2 2024-12-01 16:03:02.073445 2024-12-01 16:06:24.486744   \n",
      "3       3 2024-12-01 16:06:24.493353 2024-12-01 16:09:51.503236   \n",
      "4       4 2024-12-01 16:06:26.501406 2024-12-01 16:09:51.503267   \n",
      "\n",
      "   carbon_footprint  \n",
      "0          1703.164  \n",
      "1          1803.340  \n",
      "2          1803.340  \n",
      "3          1779.782  \n",
      "4          1779.782  \n",
      "   job_id                 start_time                   end_time  \\\n",
      "0       0 2024-11-30 20:31:00.361572 2024-11-30 20:35:43.636349   \n",
      "1       1 2024-11-30 20:31:02.370081 2024-11-30 20:35:43.636510   \n",
      "2       2 2024-11-30 20:31:04.380137 2024-11-30 20:35:43.636570   \n",
      "3       3 2024-11-30 20:35:43.643893 2024-11-30 20:40:26.781255   \n",
      "4       4 2024-11-30 20:35:45.650031 2024-11-30 20:40:26.781363   \n",
      "\n",
      "   carbon_footprint  \n",
      "0           4007.58  \n",
      "1           4007.58  \n",
      "2           4007.58  \n",
      "3           3844.54  \n",
      "4           3844.54  \n",
      "   job_id                 start_time                   end_time  \\\n",
      "0       0 2024-11-30 19:53:32.914759 2024-11-30 19:57:15.565124   \n",
      "1       1 2024-11-30 19:53:34.919832 2024-11-30 19:57:15.565333   \n",
      "2       2 2024-11-30 19:53:36.926068 2024-11-30 19:58:27.040701   \n",
      "3       3 2024-11-30 19:53:38.938145 2024-11-30 20:02:06.430894   \n",
      "4       4 2024-11-30 19:57:15.573812 2024-11-30 19:57:52.361007   \n",
      "\n",
      "   carbon_footprint  \n",
      "0           3006.40  \n",
      "1           3006.40  \n",
      "2           5007.33  \n",
      "3           2885.46  \n",
      "4              0.00  \n",
      "   job_id                 start_time                   end_time  \\\n",
      "0       0 2024-11-30 19:16:09.471824 2024-11-30 19:19:31.121739   \n",
      "1       1 2024-11-30 19:16:11.481229 2024-11-30 19:19:31.121816   \n",
      "2       2 2024-11-30 19:16:13.490258 2024-11-30 19:21:58.189836   \n",
      "3       3 2024-11-30 19:16:15.496319 2024-11-30 19:16:48.038514   \n",
      "4       4 2024-11-30 19:16:48.043742 2024-11-30 19:17:20.750873   \n",
      "\n",
      "   carbon_footprint  \n",
      "0           2505.52  \n",
      "1           2505.52  \n",
      "2           5979.48  \n",
      "3              0.00  \n",
      "4              0.00  \n"
     ]
    }
   ],
   "source": [
    "# open four csv files: job_times_{baseline, cap, danish, decima}.csv\n",
    "# parse datetimes for the 'start_time' and 'end_time' columns\n",
    "\n",
    "baseline = pd.read_csv('job_times_baseline.csv', parse_dates=['start_time', 'end_time'])\n",
    "cap = pd.read_csv('job_times_cap.csv', parse_dates=['start_time', 'end_time'])\n",
    "danish = pd.read_csv('job_times_danish.csv', parse_dates=['start_time', 'end_time'])\n",
    "decima = pd.read_csv('job_times_decima.csv', parse_dates=['start_time', 'end_time'])\n",
    "\n",
    "# drop last few rows that have no data\n",
    "baseline = baseline.dropna()\n",
    "cap = cap.dropna()\n",
    "danish = danish.dropna()\n",
    "decima = decima.dropna()\n",
    "\n",
    "# view the head of each\n",
    "print(baseline.head())\n",
    "print(cap.head())\n",
    "print(danish.head())\n",
    "print(decima.head())"
   ]
  },
  {
   "cell_type": "code",
   "execution_count": null,
   "metadata": {},
   "outputs": [],
   "source": []
  },
  {
   "cell_type": "code",
   "execution_count": 26,
   "metadata": {},
   "outputs": [
    {
     "name": "stdout",
     "output_type": "stream",
     "text": [
      "Total Carbon Footprint for baseline: 40031.06200000001\n",
      "Total Carbon Footprint for cap: 23556.36\n",
      "Total Carbon Footprint for danish: 24248.949999999997\n",
      "Total Carbon Footprint for decima: 10990.52\n"
     ]
    }
   ],
   "source": [
    "# for each of the four dataframes, compute the total carbon footprint for the first 20 rows (sum of all the carbon footprints)\n",
    "total_carbon_baseline = baseline['carbon_footprint'].head(20).sum()\n",
    "total_carbon_cap = cap['carbon_footprint'].head(20).sum()\n",
    "total_carbon_danish = danish['carbon_footprint'].head(20).sum()\n",
    "total_carbon_decima = decima['carbon_footprint'].head(20).sum()\n",
    "\n",
    "# print the results\n",
    "print('Total Carbon Footprint for baseline:', total_carbon_baseline)\n",
    "print('Total Carbon Footprint for cap:', total_carbon_cap)\n",
    "print('Total Carbon Footprint for danish:', total_carbon_danish)\n",
    "print('Total Carbon Footprint for decima:', total_carbon_decima)\n"
   ]
  },
  {
   "cell_type": "code",
   "execution_count": 27,
   "metadata": {},
   "outputs": [
    {
     "name": "stdout",
     "output_type": "stream",
     "text": [
      "Total Time for baseline:    0 days 00:29:58.018670\n",
      "Total Time for cap:         0 days 00:09:26.419806\n",
      "Total Time for danish:      0 days 00:32:49.572784\n",
      "Total Time for decima:      0 days 00:35:00.341596\n"
     ]
    }
   ],
   "source": [
    "# for each of the four dataframes, compute the total time\n",
    "# total time is the difference between start_time in the first row and the end_time in the last row\n",
    "# all of these are datetime objects\n",
    "total_time_baseline = baseline['end_time'].iloc[-1] - baseline['start_time'].iloc[0]\n",
    "total_time_cap = cap['end_time'].iloc[-1] - cap['start_time'].iloc[0]\n",
    "total_time_danish = danish['end_time'].iloc[-1] - danish['start_time'].iloc[0]\n",
    "total_time_decima = decima['end_time'].iloc[-1] - decima['start_time'].iloc[0]\n",
    "\n",
    "# print the results (just the hours, minutes, etc -- days are irrelevant)\n",
    "print('Total Time for baseline:   ', total_time_baseline)\n",
    "print('Total Time for cap:        ', total_time_cap)\n",
    "print('Total Time for danish:     ', total_time_danish)\n",
    "print('Total Time for decima:     ', total_time_decima)"
   ]
  },
  {
   "cell_type": "code",
   "execution_count": null,
   "metadata": {},
   "outputs": [],
   "source": []
  },
  {
   "cell_type": "code",
   "execution_count": null,
   "metadata": {},
   "outputs": [],
   "source": []
  }
 ],
 "metadata": {
  "kernelspec": {
   "display_name": "base",
   "language": "python",
   "name": "python3"
  },
  "language_info": {
   "codemirror_mode": {
    "name": "ipython",
    "version": 3
   },
   "file_extension": ".py",
   "mimetype": "text/x-python",
   "name": "python",
   "nbconvert_exporter": "python",
   "pygments_lexer": "ipython3",
   "version": "3.10.14"
  }
 },
 "nbformat": 4,
 "nbformat_minor": 2
}
