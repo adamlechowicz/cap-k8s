{
 "cells": [
  {
   "cell_type": "code",
   "execution_count": 57,
   "metadata": {},
   "outputs": [],
   "source": [
    "import numpy as np \n",
    "import pandas as pd\n",
    "import matplotlib.pyplot as plt\n",
    "import seaborn as sns\n"
   ]
  },
  {
   "cell_type": "code",
   "execution_count": 58,
   "metadata": {},
   "outputs": [
    {
     "name": "stdout",
     "output_type": "stream",
     "text": [
      "   job_id                 start_time                   end_time  \\\n",
      "0       0 2024-12-11 07:31:31.907221 2024-12-11 07:32:13.804573   \n",
      "1       1 2024-12-11 07:32:25.276014 2024-12-11 07:34:26.765927   \n",
      "2       2 2024-12-11 07:32:52.675729 2024-12-11 07:34:50.963002   \n",
      "3       3 2024-12-11 07:34:22.132196 2024-12-11 07:35:13.652053   \n",
      "4       4 2024-12-11 07:35:40.060980 2024-12-11 07:36:20.950374   \n",
      "\n",
      "   carbon_footprint                                          executors  \n",
      "0         92.037000  [('31:57', 'tpc-h-v3-0-0-spark-7ec33693b4a1832...  \n",
      "1        485.520667  [('32:53', 'tpc-h-v3-0-0-spark-c756d493b4a2574...  \n",
      "2        434.609000  [('33:22', 'tpc-h-v3-0-0-spark-cc1a4b93b4a2c18...  \n",
      "3         78.633333  [('34:49', 'tpc-h-v3-0-0-spark-224c8193b4a421e...  \n",
      "4         24.125000  [('36:07', 'tpc-h-v3-0-0-spark-a71f2a93b4a54e0...  \n",
      "   job_id                 start_time                   end_time  \\\n",
      "0       0 2024-12-11 08:11:21.192387 2024-12-11 08:12:02.304807   \n",
      "1       1 2024-12-11 08:11:22.335293 2024-12-11 08:12:02.305064   \n",
      "2       2 2024-12-11 08:11:37.815629 2024-12-11 08:12:28.031523   \n",
      "3       3 2024-12-11 08:11:48.278180 2024-12-11 08:15:44.249428   \n",
      "4       4 2024-12-11 08:12:11.217623 2024-12-11 08:13:33.874267   \n",
      "\n",
      "   carbon_footprint                                          executors  \n",
      "0         25.101000  [('11:48', 'tpc-h-v3-0-0-spark-2836f493b4c5fcf...  \n",
      "1         46.018500  [('11:48', 'tpc-h-v3-0-0-spark-62f09e93b4c601a...  \n",
      "2        175.057000  [('12:04', 'tpc-h-v3-0-0-spark-66bea693b4c636f...  \n",
      "3        995.793667  [('12:18', 'tpc-h-v3-0-0-spark-5be37693b4c664b...  \n",
      "4         40.077333  [('12:44', 'tpc-h-v3-0-0-spark-78c60a93b4c6c4a...  \n",
      "   job_id                 start_time                   end_time  \\\n",
      "0       0 2024-12-11 08:41:12.806497 2024-12-11 08:41:55.581623   \n",
      "1       1 2024-12-11 08:42:02.619653 2024-12-11 08:42:41.218069   \n",
      "2       2 2024-12-11 08:42:11.934123 2024-12-11 08:44:19.472283   \n",
      "3       3 2024-12-11 08:42:25.752827 2024-12-11 08:44:30.464638   \n",
      "4       4 2024-12-11 08:42:35.200451 2024-12-11 08:44:40.214532   \n",
      "\n",
      "   carbon_footprint                                          executors  \n",
      "0         54.385500  [('41:40', 'tpc-h-v3-0-0-spark-fdab4d93b4e151f...  \n",
      "1         20.105000  [('42:29', 'tpc-h-v3-0-0-spark-d9fa1393b4e215b...  \n",
      "2        417.046000  [('42:37', 'tpc-h-v3-0-0-spark-95b3d993b4e233b...  \n",
      "3        237.667333  [('42:52', 'tpc-h-v3-0-0-spark-bf8c0593b4e26bf...  \n",
      "4        237.085333  [('43:02', 'tpc-h-v3-0-0-spark-8cd0c593b4e290d...  \n",
      "   job_id                 start_time                   end_time  \\\n",
      "0       0 2024-12-11 09:10:11.682231 2024-12-11 09:10:53.373022   \n",
      "1       1 2024-12-11 09:10:33.636897 2024-12-11 09:11:17.924911   \n",
      "2       2 2024-12-11 09:11:16.740630 2024-12-11 09:13:20.435618   \n",
      "3       3 2024-12-11 09:11:27.308074 2024-12-11 09:12:06.327641   \n",
      "4       4 2024-12-11 09:11:28.458732 2024-12-11 09:12:53.767232   \n",
      "\n",
      "   carbon_footprint                                          executors  \n",
      "0         29.284500  [('10:38', 'tpc-h-v3-0-0-spark-f5828893b4fbd88...  \n",
      "1        115.838000  [('10:57', 'tpc-h-v3-0-0-spark-1e23ea93b4fc2af...  \n",
      "2        305.453000  [('11:44', 'tpc-h-v3-0-0-spark-7a351793b4fcd42...  \n",
      "3         28.147000  [('11:53', 'tpc-h-v3-0-0-spark-6774e093b4fcfdf...  \n",
      "4         63.672667  [('11:57', 'tpc-h-v3-0-0-spark-6a6dc593b4fd037...  \n"
     ]
    }
   ],
   "source": [
    "# open several csv files: results/{default, cap, danish, decima}/tpch_{job_num}_{trace}/times_{0,1,2,3}.csv\n",
    "# parse datetimes for the 'start_time' and 'end_time' columns\n",
    "job_num = 50\n",
    "trace = \"CAISO\"\n",
    "\n",
    "baseline_0 = pd.read_csv(f'results/default/tpch_{job_num}_{trace}/times_0.csv', parse_dates=['start_time', 'end_time'])\n",
    "baseline_1 = pd.read_csv(f'results/default/tpch_{job_num}_{trace}/times_1.csv', parse_dates=['start_time', 'end_time'])\n",
    "baseline_2 = pd.read_csv(f'results/default/tpch_{job_num}_{trace}/times_2.csv', parse_dates=['start_time', 'end_time'])\n",
    "baseline_3 = pd.read_csv(f'results/default/tpch_{job_num}_{trace}/times_3.csv', parse_dates=['start_time', 'end_time'])\n",
    "\n",
    "cap_0 = pd.read_csv(f'results/cap/tpch_{job_num}_{trace}/times_0.csv', parse_dates=['start_time', 'end_time'])\n",
    "cap_1 = pd.read_csv(f'results/cap/tpch_{job_num}_{trace}/times_1.csv', parse_dates=['start_time', 'end_time'])\n",
    "cap_2 = pd.read_csv(f'results/cap/tpch_{job_num}_{trace}/times_2.csv', parse_dates=['start_time', 'end_time'])\n",
    "cap_3 = pd.read_csv(f'results/cap/tpch_{job_num}_{trace}/times_3.csv', parse_dates=['start_time', 'end_time'])\n",
    "\n",
    "danish_0 = pd.read_csv(f'results/danish/tpch_{job_num}_{trace}/times_0.csv', parse_dates=['start_time', 'end_time'])\n",
    "danish_1 = pd.read_csv(f'results/danish/tpch_{job_num}_{trace}/times_1.csv', parse_dates=['start_time', 'end_time'])\n",
    "danish_2 = pd.read_csv(f'results/danish/tpch_{job_num}_{trace}/times_2.csv', parse_dates=['start_time', 'end_time'])\n",
    "danish_3 = pd.read_csv(f'results/danish/tpch_{job_num}_{trace}/times_3.csv', parse_dates=['start_time', 'end_time'])\n",
    "\n",
    "decima_0 = pd.read_csv(f'results/decima/tpch_{job_num}_{trace}/times_0.csv', parse_dates=['start_time', 'end_time'])\n",
    "decima_1 = pd.read_csv(f'results/decima/tpch_{job_num}_{trace}/times_1.csv', parse_dates=['start_time', 'end_time'])\n",
    "decima_2 = pd.read_csv(f'results/decima/tpch_{job_num}_{trace}/times_2.csv', parse_dates=['start_time', 'end_time'])\n",
    "decima_3 = pd.read_csv(f'results/decima/tpch_{job_num}_{trace}/times_3.csv', parse_dates=['start_time', 'end_time'])\n",
    "\n",
    "# drop rows that have no data\n",
    "baseline_0 = baseline_0.dropna()\n",
    "baseline_1 = baseline_1.dropna()\n",
    "baseline_2 = baseline_2.dropna()\n",
    "baseline_3 = baseline_3.dropna()\n",
    "\n",
    "cap_0 = cap_0.dropna()\n",
    "cap_1 = cap_1.dropna()\n",
    "cap_2 = cap_2.dropna()\n",
    "cap_3 = cap_3.dropna()\n",
    "\n",
    "danish_0 = danish_0.dropna()\n",
    "danish_1 = danish_1.dropna()\n",
    "danish_2 = danish_2.dropna()\n",
    "danish_3 = danish_3.dropna()\n",
    "\n",
    "decima_0 = decima_0.dropna()\n",
    "decima_1 = decima_1.dropna()\n",
    "decima_2 = decima_2.dropna()\n",
    "decima_3 = decima_3.dropna()\n",
    "\n",
    "dfs = [baseline_0, baseline_1, baseline_2, baseline_3, cap_0, cap_1, cap_2, cap_3, danish_0, danish_1, danish_2, danish_3, decima_0, decima_1, decima_2, decima_3]\n",
    "\n",
    "# view the head of first 4\n",
    "print(baseline_0.head())\n",
    "print(cap_0.head())\n",
    "print(danish_0.head())\n",
    "print(decima_0.head())"
   ]
  },
  {
   "cell_type": "code",
   "execution_count": null,
   "metadata": {},
   "outputs": [],
   "source": []
  },
  {
   "cell_type": "code",
   "execution_count": 59,
   "metadata": {},
   "outputs": [
    {
     "name": "stdout",
     "output_type": "stream",
     "text": [
      "Total Carbon Footprint for baseline: 31566.57083333335\n",
      "Total Carbon Footprint for cap: 23542.861333333327\n",
      "Total Carbon Footprint for danish: 17703.880000000012\n",
      "Total Carbon Footprint for decima: 30217.97016666669\n"
     ]
    }
   ],
   "source": [
    "# for each of the four dataframes, compute the total carbon footprint for the first 20 rows (sum of all the carbon footprints)\n",
    "total_carbon_baseline = baseline_0['carbon_footprint'].head(100).sum()\n",
    "total_carbon_cap = cap_0['carbon_footprint'].head(100).sum()\n",
    "total_carbon_danish = danish_0['carbon_footprint'].head(100).sum()\n",
    "total_carbon_decima = decima_0['carbon_footprint'].head(100).sum()\n",
    "\n",
    "# print the results\n",
    "print('Total Carbon Footprint for baseline:', total_carbon_baseline)\n",
    "print('Total Carbon Footprint for cap:', total_carbon_cap)\n",
    "print('Total Carbon Footprint for danish:', total_carbon_danish)\n",
    "print('Total Carbon Footprint for decima:', total_carbon_decima)\n"
   ]
  },
  {
   "cell_type": "code",
   "execution_count": 60,
   "metadata": {},
   "outputs": [
    {
     "name": "stdout",
     "output_type": "stream",
     "text": [
      "Total Carbon Footprint for baseline_1: 33043.50416666665\n",
      "Total Carbon Footprint for cap_1: 28315.790166666717\n",
      "Total Carbon Footprint for danish_1: 22062.61533333334\n",
      "Total Carbon Footprint for decima_1: 27584.414500000068\n"
     ]
    }
   ],
   "source": [
    "# do the same thing for the _1 files\n",
    "total_carbon_baseline_1 = baseline_1['carbon_footprint'].head(100).sum()\n",
    "total_carbon_cap_1 = cap_1['carbon_footprint'].head(100).sum()\n",
    "total_carbon_danish_1 = danish_1['carbon_footprint'].head(100).sum()\n",
    "total_carbon_decima_1 = decima_1['carbon_footprint'].head(100).sum()\n",
    "\n",
    "# print the results\n",
    "print('Total Carbon Footprint for baseline_1:', total_carbon_baseline_1)\n",
    "print('Total Carbon Footprint for cap_1:', total_carbon_cap_1)\n",
    "print('Total Carbon Footprint for danish_1:', total_carbon_danish_1)\n",
    "print('Total Carbon Footprint for decima_1:', total_carbon_decima_1)"
   ]
  },
  {
   "cell_type": "code",
   "execution_count": 61,
   "metadata": {},
   "outputs": [
    {
     "name": "stdout",
     "output_type": "stream",
     "text": [
      "Total Carbon Footprint for baseline_2: 39617.56983333331\n",
      "Total Carbon Footprint for cap_2: 25153.47933333335\n",
      "Total Carbon Footprint for danish_2: 25516.622500000027\n",
      "Total Carbon Footprint for decima_2: 26462.03300000006\n"
     ]
    }
   ],
   "source": [
    "# and the same for the _2 files\n",
    "total_carbon_baseline_2 = baseline_2['carbon_footprint'].head(100).sum()\n",
    "total_carbon_cap_2 = cap_2['carbon_footprint'].head(100).sum()\n",
    "total_carbon_danish_2 = danish_2['carbon_footprint'].head(100).sum()\n",
    "total_carbon_decima_2 = decima_2['carbon_footprint'].head(100).sum()\n",
    "\n",
    "# print the results\n",
    "print('Total Carbon Footprint for baseline_2:', total_carbon_baseline_2)\n",
    "print('Total Carbon Footprint for cap_2:', total_carbon_cap_2)\n",
    "print('Total Carbon Footprint for danish_2:', total_carbon_danish_2)\n",
    "print('Total Carbon Footprint for decima_2:', total_carbon_decima_2)"
   ]
  },
  {
   "cell_type": "code",
   "execution_count": 62,
   "metadata": {},
   "outputs": [
    {
     "name": "stdout",
     "output_type": "stream",
     "text": [
      "Total Carbon Footprint for baseline_3: 38690.62183333324\n",
      "Total Carbon Footprint for cap_3: 28810.06033333331\n",
      "Total Carbon Footprint for danish_3: 15272.74066666666\n",
      "Total Carbon Footprint for decima_3: 15423.077166666659\n"
     ]
    }
   ],
   "source": [
    "# and the same for the _3 files\n",
    "total_carbon_baseline_3 = baseline_3['carbon_footprint'].head(100).sum()\n",
    "total_carbon_cap_3 = cap_3['carbon_footprint'].head(100).sum()\n",
    "total_carbon_danish_3 = danish_3['carbon_footprint'].head(100).sum()\n",
    "total_carbon_decima_3 = decima_3['carbon_footprint'].head(100).sum()\n",
    "\n",
    "# print the results\n",
    "print('Total Carbon Footprint for baseline_3:', total_carbon_baseline_3)\n",
    "print('Total Carbon Footprint for cap_3:', total_carbon_cap_3)\n",
    "print('Total Carbon Footprint for danish_3:', total_carbon_danish_3)\n",
    "print('Total Carbon Footprint for decima_3:', total_carbon_decima_3)"
   ]
  },
  {
   "cell_type": "code",
   "execution_count": 63,
   "metadata": {},
   "outputs": [
    {
     "name": "stdout",
     "output_type": "stream",
     "text": [
      "Average Carbon Footprint for baseline: 35729.56666666664\n",
      "Average Carbon Footprint for cap: 26455.547791666675\n",
      "Average Carbon Footprint for danish: 20138.96462500001\n",
      "Average Carbon Footprint for decima: 24921.87370833337\n"
     ]
    }
   ],
   "source": [
    "# compute average across all files\n",
    "average_carbon_baseline = (total_carbon_baseline + total_carbon_baseline_1 + total_carbon_baseline_2 + total_carbon_baseline_3) / 4\n",
    "average_carbon_cap = (total_carbon_cap + total_carbon_cap_1 + total_carbon_cap_2 + total_carbon_cap_3) / 4\n",
    "average_carbon_danish = (total_carbon_danish + total_carbon_danish_1 + total_carbon_danish_2 + total_carbon_danish_3) / 4\n",
    "average_carbon_decima = (total_carbon_decima + total_carbon_decima_1 + total_carbon_decima_2 + total_carbon_decima_3) / 4\n",
    "\n",
    "# print the results\n",
    "print('Average Carbon Footprint for baseline:', average_carbon_baseline)\n",
    "print('Average Carbon Footprint for cap:', average_carbon_cap)\n",
    "print('Average Carbon Footprint for danish:', average_carbon_danish)\n",
    "print('Average Carbon Footprint for decima:', average_carbon_decima)"
   ]
  },
  {
   "cell_type": "code",
   "execution_count": 71,
   "metadata": {},
   "outputs": [
    {
     "name": "stdout",
     "output_type": "stream",
     "text": [
      "Total Time for baseline:    0 days 00:31:28.209027\n",
      "Total Time for cap:         0 days 00:27:21.356519\n",
      "Total Time for danish:      0 days 00:27:57.253500\n",
      "Total Time for decima:      0 days 00:33:46.824781\n"
     ]
    }
   ],
   "source": [
    "# for each of the four dataframes, compute the total time\n",
    "# total time is the difference between start_time in the first row and the end_time in the last row\n",
    "# all of these are datetime objects\n",
    "total_time_baseline = baseline_0['end_time'].head(job_num).iloc[-1] - baseline_0['start_time'].head(job_num).iloc[0]\n",
    "total_time_cap = cap_0['end_time'].head(job_num).iloc[-1] - cap_0['start_time'].head(job_num).iloc[0]\n",
    "total_time_danish = danish_0['end_time'].head(job_num).iloc[-1] - danish_0['start_time'].head(job_num).iloc[0]\n",
    "total_time_decima = decima_0['end_time'].head(job_num).iloc[-1] - decima_0['start_time'].head(job_num).iloc[0]\n",
    "\n",
    "# print the results (just the hours, minutes, etc -- days are irrelevant)\n",
    "print('Total Time for baseline:   ', total_time_baseline)\n",
    "print('Total Time for cap:        ', total_time_cap)\n",
    "print('Total Time for danish:     ', total_time_danish)\n",
    "print('Total Time for decima:     ', total_time_decima)"
   ]
  },
  {
   "cell_type": "code",
   "execution_count": 72,
   "metadata": {},
   "outputs": [
    {
     "name": "stdout",
     "output_type": "stream",
     "text": [
      "Total Time for baseline:    0 days 00:38:49.448841\n",
      "Total Time for cap:         0 days 00:26:49.479768\n",
      "Total Time for danish:      0 days 00:26:21.078974\n",
      "Total Time for decima:      0 days 00:22:42.984717\n"
     ]
    }
   ],
   "source": [
    "# do the same time calculation for the _1 files\n",
    "total_time_baseline_1 = baseline_1['end_time'].head(job_num).iloc[-1] - baseline_1['start_time'].head(job_num).iloc[0]\n",
    "total_time_cap_1 = cap_1['end_time'].head(job_num).iloc[-1] - cap_1['start_time'].head(job_num).iloc[0]\n",
    "total_time_danish_1 = danish_1['end_time'].head(job_num).iloc[-1] - danish_1['start_time'].head(job_num).iloc[0]\n",
    "total_time_decima_1 = decima_1['end_time'].head(job_num).iloc[-1] - decima_1['start_time'].head(job_num).iloc[0]\n",
    "\n",
    "# print the results (just the hours, minutes, etc -- days are irrelevant)\n",
    "print('Total Time for baseline:   ', total_time_baseline_1)\n",
    "print('Total Time for cap:        ', total_time_cap_1)\n",
    "print('Total Time for danish:     ', total_time_danish_1)\n",
    "print('Total Time for decima:     ', total_time_decima_1)"
   ]
  },
  {
   "cell_type": "code",
   "execution_count": 73,
   "metadata": {},
   "outputs": [
    {
     "name": "stdout",
     "output_type": "stream",
     "text": [
      "Total Time for baseline:    0 days 00:28:32.041250\n",
      "Total Time for cap:         0 days 00:31:29.965646\n",
      "Total Time for danish:      0 days 00:31:57.320062\n",
      "Total Time for decima:      0 days 00:25:19.834792\n"
     ]
    }
   ],
   "source": [
    "# do the same time calculation for the _2 files\n",
    "total_time_baseline_2 = baseline_2['end_time'].head(job_num).iloc[-1] - baseline_2['start_time'].head(job_num).iloc[0]\n",
    "total_time_cap_2 = cap_2['end_time'].head(job_num).iloc[-1] - cap_2['start_time'].head(job_num).iloc[0]\n",
    "total_time_danish_2 = danish_2['end_time'].head(job_num).iloc[-1] - danish_2['start_time'].head(job_num).iloc[0]\n",
    "total_time_decima_2 = decima_2['end_time'].head(job_num).iloc[-1] - decima_2['start_time'].head(job_num).iloc[0]\n",
    "\n",
    "# print the results (just the hours, minutes, etc -- days are irrelevant)\n",
    "print('Total Time for baseline:   ', total_time_baseline_2)\n",
    "print('Total Time for cap:        ', total_time_cap_2)\n",
    "print('Total Time for danish:     ', total_time_danish_2)\n",
    "print('Total Time for decima:     ', total_time_decima_2)"
   ]
  },
  {
   "cell_type": "code",
   "execution_count": 74,
   "metadata": {},
   "outputs": [
    {
     "name": "stdout",
     "output_type": "stream",
     "text": [
      "Total Time for baseline:    0 days 00:28:24.457754\n",
      "Total Time for cap:         0 days 00:36:17.659064\n",
      "Total Time for danish:      0 days 00:28:17.256123\n",
      "Total Time for decima:      0 days 00:30:56.287200\n"
     ]
    }
   ],
   "source": [
    "# do the same time calculation for the _3 files\n",
    "total_time_baseline_3 = baseline_3['end_time'].head(job_num).iloc[-1] - baseline_3['start_time'].head(job_num).iloc[0]\n",
    "total_time_cap_3 = cap_3['end_time'].head(job_num).iloc[-1] - cap_3['start_time'].head(job_num).iloc[0]\n",
    "total_time_danish_3 = danish_3['end_time'].head(job_num).iloc[-1] - danish_3['start_time'].head(job_num).iloc[0]\n",
    "total_time_decima_3 = decima_3['end_time'].head(job_num).iloc[-1] - decima_3['start_time'].head(job_num).iloc[0]\n",
    "\n",
    "# print the results (just the hours, minutes, etc -- days are irrelevant)\n",
    "print('Total Time for baseline:   ', total_time_baseline_3)\n",
    "print('Total Time for cap:        ', total_time_cap_3)\n",
    "print('Total Time for danish:     ', total_time_danish_3)\n",
    "print('Total Time for decima:     ', total_time_decima_3)"
   ]
  },
  {
   "cell_type": "code",
   "execution_count": 75,
   "metadata": {},
   "outputs": [
    {
     "name": "stdout",
     "output_type": "stream",
     "text": [
      "Average Total Time for baseline: 0 days 00:31:55.315948333\n",
      "Average Total Time for cap: 0 days 00:31:32.368159333\n",
      "Average Total Time for danish: 0 days 00:28:51.885053\n",
      "Average Total Time for decima: 0 days 00:26:19.702236333\n"
     ]
    }
   ],
   "source": [
    "# compute averages \n",
    "average_time_baseline = ( total_time_baseline_1 + total_time_baseline_2 + total_time_baseline_3) / 3\n",
    "average_time_cap = ( total_time_cap_1 + total_time_cap_2 + total_time_cap_3) / 3\n",
    "average_time_danish = ( total_time_danish_1 + total_time_danish_2 + total_time_danish_3) / 3\n",
    "average_time_decima = ( total_time_decima_1 + total_time_decima_2 + total_time_decima_3) / 3\n",
    "\n",
    "# print the results\n",
    "print('Average Total Time for baseline:', average_time_baseline)\n",
    "print('Average Total Time for cap:', average_time_cap)\n",
    "print('Average Total Time for danish:', average_time_danish)\n",
    "print('Average Total Time for decima:', average_time_decima)"
   ]
  },
  {
   "cell_type": "code",
   "execution_count": 76,
   "metadata": {},
   "outputs": [
    {
     "name": "stdout",
     "output_type": "stream",
     "text": [
      "Average Carbon Footprint for baseline: 37117.23194444441\n",
      "Average Carbon Footprint for cap: 27426.443277777795\n",
      "Average Carbon Footprint for danish: 20950.659500000005\n",
      "Average Carbon Footprint for decima: 23156.50822222226\n"
     ]
    }
   ],
   "source": [
    "# compute average across all files\n",
    "average_carbon_baseline = ( total_carbon_baseline_1 + total_carbon_baseline_2 + total_carbon_baseline_3) / 3\n",
    "average_carbon_cap = ( total_carbon_cap_1 + total_carbon_cap_2 + total_carbon_cap_3) / 3\n",
    "average_carbon_danish = ( total_carbon_danish_1 + total_carbon_danish_2 + total_carbon_danish_3) / 3\n",
    "average_carbon_decima = ( total_carbon_decima_1 + total_carbon_decima_2 + total_carbon_decima_3) / 3\n",
    "\n",
    "# print the results\n",
    "print('Average Carbon Footprint for baseline:', average_carbon_baseline)\n",
    "print('Average Carbon Footprint for cap:', average_carbon_cap)\n",
    "print('Average Carbon Footprint for danish:', average_carbon_danish)\n",
    "print('Average Carbon Footprint for decima:', average_carbon_decima)"
   ]
  },
  {
   "cell_type": "code",
   "execution_count": 78,
   "metadata": {},
   "outputs": [
    {
     "data": {
      "text/plain": [
       "<matplotlib.legend.Legend at 0x150a51c00>"
      ]
     },
     "execution_count": 78,
     "metadata": {},
     "output_type": "execute_result"
    },
    {
     "data": {
      "image/png": "[encoded data removed]",
      "text/plain": [
       "<Figure size 640x480 with 1 Axes>"
      ]
     },
     "metadata": {},
     "output_type": "display_data"
    }
   ],
   "source": [
    "# plot the carbon footprint and completion time, normalized to the max of each\n",
    "# bar plot in matplotlib\n",
    "# make sure to label the axes and give a title\n",
    "# save the plot as 'carbon_time_plot.png'\n",
    "\n",
    "import matplotlib.pyplot as plt\n",
    "\n",
    "carbon_data = [average_carbon_baseline, average_carbon_cap, average_carbon_danish, average_carbon_decima]\n",
    "time_data = [average_time_baseline, average_time_cap, average_time_danish, average_time_decima]\n",
    "\n",
    "carbon_data = [x / max(carbon_data) for x in carbon_data]\n",
    "time_data = [x / max(time_data) for x in time_data]\n",
    "\n",
    "fig, ax = plt.subplots()\n",
    "bar_width = 0.35\n",
    "index = np.arange(4)\n",
    "\n",
    "bar1 = ax.bar(index, carbon_data, bar_width, label='Carbon Footprint')\n",
    "bar2 = ax.bar(index + bar_width, time_data, bar_width, label='End-to-end Time')\n",
    "legend = ['Baseline', 'CAP', 'DANISH', 'Decima']\n",
    "ax.set_xlabel('Model')\n",
    "ax.set_ylabel('Normalized Value')\n",
    "ax.set_title('Empirical Experiments (cluster, 50 TPC-H jobs, CAISO)')\n",
    "ax.set_xticks(index + bar_width / 2)\n",
    "ax.set_xticklabels(legend)\n",
    "ax.legend()\n"
   ]
  },
  {
   "cell_type": "code",
   "execution_count": null,
   "metadata": {},
   "outputs": [],
   "source": []
  }
 ],
 "metadata": {
  "kernelspec": {
   "display_name": "base",
   "language": "python",
   "name": "python3"
  },
  "language_info": {
   "codemirror_mode": {
    "name": "ipython",
    "version": 3
   },
   "file_extension": ".py",
   "mimetype": "text/x-python",
   "name": "python",
   "nbconvert_exporter": "python",
   "pygments_lexer": "ipython3",
   "version": "3.10.14"
  }
 },
 "nbformat": 4,
 "nbformat_minor": 2
}
