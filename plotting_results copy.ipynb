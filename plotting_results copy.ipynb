{
 "cells": [
  {
   "cell_type": "code",
   "execution_count": 48,
   "metadata": {},
   "outputs": [],
   "source": [
    "import numpy as np \n",
    "import pandas as pd\n",
    "import matplotlib.pyplot as plt\n",
    "import seaborn as sns\n"
   ]
  },
  {
   "cell_type": "code",
   "execution_count": 49,
   "metadata": {},
   "outputs": [
    {
     "name": "stdout",
     "output_type": "stream",
     "text": [
      "   job_id                 start_time                   end_time  \\\n",
      "0       0 2024-12-08 21:01:44.783735 2024-12-08 21:02:20.049062   \n",
      "1       1 2024-12-08 21:01:58.923428 2024-12-08 21:02:40.889181   \n",
      "2       2 2024-12-08 21:03:43.563311 2024-12-08 21:05:39.791131   \n",
      "3       3 2024-12-08 21:03:49.356484 2024-12-08 21:05:55.795510   \n",
      "4       4 2024-12-08 21:04:06.834120 2024-12-08 21:06:04.445795   \n",
      "\n",
      "   carbon_footprint                                          executors  \n",
      "0         49.892000  [('02:09', 'tpc-h-v3-0-0-spark-7c68ea93a81435f...  \n",
      "1        141.360667  [('02:23', 'tpc-h-v3-0-0-spark-37716793a814697...  \n",
      "2        669.369333  [('04:07', 'tpc-h-v3-0-0-spark-5f9d8793a816011...  \n",
      "3        693.793333  [('04:16', 'tpc-h-v3-0-0-spark-5a63e393a8161d8...  \n",
      "4        609.428333  [('04:32', 'tpc-h-v3-0-0-spark-4454a093a8165da...  \n",
      "   job_id                 start_time                   end_time  \\\n",
      "0       0 2024-12-08 21:30:14.192802 2024-12-08 21:31:00.773398   \n",
      "1       1 2024-12-08 21:30:34.930950 2024-12-08 21:31:26.821115   \n",
      "2       2 2024-12-08 21:31:31.389441 2024-12-08 21:35:45.417803   \n",
      "3       3 2024-12-08 21:31:39.455285 2024-12-08 21:36:07.609075   \n",
      "4       4 2024-12-08 21:32:04.395102 2024-12-08 21:36:52.112213   \n",
      "\n",
      "   carbon_footprint                                          executors  \n",
      "0        116.414667  [('30:42', 'tpc-h-v3-0-0-spark-49f2e193a82e4a1...  \n",
      "1        374.370000  [('30:59', 'tpc-h-v3-0-0-spark-87b5d993a82e9ab...  \n",
      "2       1703.041333  [('31:56', 'tpc-h-v3-0-0-spark-d0086393a82f764...  \n",
      "3       1592.529333  [('32:27', 'tpc-h-v3-0-0-spark-dc6c7093a82f967...  \n",
      "4       1215.240000  [('33:15', 'tpc-h-v3-0-0-spark-cb17a193a830854...  \n",
      "   job_id                 start_time                   end_time  \\\n",
      "0       0 2024-12-08 21:49:46.650834 2024-12-08 21:50:28.358066   \n",
      "1       1 2024-12-08 21:50:13.521721 2024-12-08 21:51:02.839111   \n",
      "2       2 2024-12-08 21:51:00.510425 2024-12-08 21:52:20.071771   \n",
      "3       3 2024-12-08 21:52:37.271435 2024-12-08 21:54:50.091518   \n",
      "4       4 2024-12-08 21:52:50.079071 2024-12-08 21:54:11.375067   \n",
      "\n",
      "   carbon_footprint                                          executors  \n",
      "0        108.099333  [('50:13', 'tpc-h-v3-0-0-spark-20ea0693a840303...  \n",
      "1        216.387667  [('50:42', 'tpc-h-v3-0-0-spark-5fd19493a8409b0...  \n",
      "2        318.149667  [('51:28', 'tpc-h-v3-0-0-spark-cc5eb393a841516...  \n",
      "3       1359.612333  [('53:05', 'tpc-h-v3-0-0-spark-80443793a842ca4...  \n",
      "4        191.926667  [('53:17', 'tpc-h-v3-0-0-spark-48e06c93a842ff2...  \n",
      "   job_id                 start_time                   end_time  \\\n",
      "0       0 2024-12-08 22:08:52.612348 2024-12-08 22:09:32.227776   \n",
      "1       1 2024-12-08 22:09:15.705252 2024-12-08 22:10:38.516964   \n",
      "2       2 2024-12-08 22:09:22.668392 2024-12-08 22:10:03.997925   \n",
      "3       3 2024-12-08 22:09:29.901134 2024-12-08 22:11:21.446290   \n",
      "4       4 2024-12-08 22:09:49.573572 2024-12-08 22:11:55.102180   \n",
      "\n",
      "   carbon_footprint                                          executors  \n",
      "0         66.522667  [('09:18', 'tpc-h-v3-0-0-spark-41070e93a851aad...  \n",
      "1        216.360667  [('09:41', 'tpc-h-v3-0-0-spark-e1afba93a85203c...  \n",
      "2         74.910000  [('09:50', 'tpc-h-v3-0-0-spark-f5fb9493a852216...  \n",
      "3        642.725667  [('09:53', 'tpc-h-v3-0-0-spark-89e97793a85237e...  \n",
      "4        628.705000  [('10:17', 'tpc-h-v3-0-0-spark-02197393a85289b...  \n"
     ]
    }
   ],
   "source": [
    "# open several csv files: results/{default, cap, danish, decima}/tpch_{job_num}/times_{0,1,2,3}.csv\n",
    "# parse datetimes for the 'start_time' and 'end_time' columns\n",
    "job_num = 30\n",
    "\n",
    "baseline_0 = pd.read_csv(f'results/default/tpch_{job_num}/times_0.csv', parse_dates=['start_time', 'end_time'])\n",
    "baseline_1 = pd.read_csv(f'results/default/tpch_{job_num}/times_1.csv', parse_dates=['start_time', 'end_time'])\n",
    "baseline_2 = pd.read_csv(f'results/default/tpch_{job_num}/times_2.csv', parse_dates=['start_time', 'end_time'])\n",
    "baseline_3 = pd.read_csv(f'results/default/tpch_{job_num}/times_3.csv', parse_dates=['start_time', 'end_time'])\n",
    "\n",
    "cap_0 = pd.read_csv(f'results/cap/tpch_{job_num}/times_0.csv', parse_dates=['start_time', 'end_time'])\n",
    "cap_1 = pd.read_csv(f'results/cap/tpch_{job_num}/times_1.csv', parse_dates=['start_time', 'end_time'])\n",
    "cap_2 = pd.read_csv(f'results/cap/tpch_{job_num}/times_2.csv', parse_dates=['start_time', 'end_time'])\n",
    "cap_3 = pd.read_csv(f'results/cap/tpch_{job_num}/times_3.csv', parse_dates=['start_time', 'end_time'])\n",
    "\n",
    "danish_0 = pd.read_csv(f'results/danish/tpch_{job_num}/times_0.csv', parse_dates=['start_time', 'end_time'])\n",
    "danish_1 = pd.read_csv(f'results/danish/tpch_{job_num}/times_1.csv', parse_dates=['start_time', 'end_time'])\n",
    "danish_2 = pd.read_csv(f'results/danish/tpch_{job_num}/times_2.csv', parse_dates=['start_time', 'end_time'])\n",
    "danish_3 = pd.read_csv(f'results/danish/tpch_{job_num}/times_3.csv', parse_dates=['start_time', 'end_time'])\n",
    "\n",
    "decima_0 = pd.read_csv(f'results/decima/tpch_{job_num}/times_0.csv', parse_dates=['start_time', 'end_time'])\n",
    "decima_1 = pd.read_csv(f'results/decima/tpch_{job_num}/times_1.csv', parse_dates=['start_time', 'end_time'])\n",
    "decima_2 = pd.read_csv(f'results/decima/tpch_{job_num}/times_2.csv', parse_dates=['start_time', 'end_time'])\n",
    "decima_3 = pd.read_csv(f'results/decima/tpch_{job_num}/times_3.csv', parse_dates=['start_time', 'end_time'])\n",
    "\n",
    "# drop rows that have no data\n",
    "baseline_0 = baseline_0.dropna()\n",
    "baseline_1 = baseline_1.dropna()\n",
    "baseline_2 = baseline_2.dropna()\n",
    "baseline_3 = baseline_3.dropna()\n",
    "\n",
    "cap_0 = cap_0.dropna()\n",
    "cap_1 = cap_1.dropna()\n",
    "cap_2 = cap_2.dropna()\n",
    "cap_3 = cap_3.dropna()\n",
    "\n",
    "danish_0 = danish_0.dropna()\n",
    "danish_1 = danish_1.dropna()\n",
    "danish_2 = danish_2.dropna()\n",
    "danish_3 = danish_3.dropna()\n",
    "\n",
    "decima_0 = decima_0.dropna()\n",
    "decima_1 = decima_1.dropna()\n",
    "decima_2 = decima_2.dropna()\n",
    "decima_3 = decima_3.dropna()\n",
    "\n",
    "dfs = [baseline_0, baseline_1, baseline_2, baseline_3, cap_0, cap_1, cap_2, cap_3, danish_0, danish_1, danish_2, danish_3, decima_0, decima_1, decima_2, decima_3]\n",
    "\n",
    "# view the head of first 4\n",
    "print(baseline_0.head())\n",
    "print(cap_0.head())\n",
    "print(danish_0.head())\n",
    "print(decima_0.head())"
   ]
  },
  {
   "cell_type": "code",
   "execution_count": null,
   "metadata": {},
   "outputs": [],
   "source": []
  },
  {
   "cell_type": "code",
   "execution_count": 50,
   "metadata": {},
   "outputs": [
    {
     "name": "stdout",
     "output_type": "stream",
     "text": [
      "Total Carbon Footprint for baseline: 36474.177500000056\n",
      "Total Carbon Footprint for cap: 28372.483000000007\n",
      "Total Carbon Footprint for danish: 22487.788833333372\n",
      "Total Carbon Footprint for decima: 46870.78700000002\n"
     ]
    }
   ],
   "source": [
    "# for each of the four dataframes, compute the total carbon footprint for the first 20 rows (sum of all the carbon footprints)\n",
    "total_carbon_baseline = baseline_0['carbon_footprint'].sum()\n",
    "total_carbon_cap = cap_0['carbon_footprint'].sum()\n",
    "total_carbon_danish = danish_0['carbon_footprint'].sum()\n",
    "total_carbon_decima = decima_0['carbon_footprint'].sum()\n",
    "\n",
    "# print the results\n",
    "print('Total Carbon Footprint for baseline:', total_carbon_baseline)\n",
    "print('Total Carbon Footprint for cap:', total_carbon_cap)\n",
    "print('Total Carbon Footprint for danish:', total_carbon_danish)\n",
    "print('Total Carbon Footprint for decima:', total_carbon_decima)\n"
   ]
  },
  {
   "cell_type": "code",
   "execution_count": 51,
   "metadata": {},
   "outputs": [
    {
     "name": "stdout",
     "output_type": "stream",
     "text": [
      "Total Carbon Footprint for baseline_1: 13718.086999999996\n",
      "Total Carbon Footprint for cap_1: 22673.764166666693\n",
      "Total Carbon Footprint for danish_1: 22945.258833333333\n",
      "Total Carbon Footprint for decima_1: 24835.388999999996\n"
     ]
    }
   ],
   "source": [
    "# do the same thing for the _1 files\n",
    "total_carbon_baseline_1 = baseline_1['carbon_footprint'].sum()\n",
    "total_carbon_cap_1 = cap_1['carbon_footprint'].sum()\n",
    "total_carbon_danish_1 = danish_1['carbon_footprint'].sum()\n",
    "total_carbon_decima_1 = decima_1['carbon_footprint'].sum()\n",
    "\n",
    "# print the results\n",
    "print('Total Carbon Footprint for baseline_1:', total_carbon_baseline_1)\n",
    "print('Total Carbon Footprint for cap_1:', total_carbon_cap_1)\n",
    "print('Total Carbon Footprint for danish_1:', total_carbon_danish_1)\n",
    "print('Total Carbon Footprint for decima_1:', total_carbon_decima_1)"
   ]
  },
  {
   "cell_type": "code",
   "execution_count": 19,
   "metadata": {},
   "outputs": [
    {
     "name": "stdout",
     "output_type": "stream",
     "text": [
      "Total Carbon Footprint for baseline_2: 18172.42166666667\n",
      "Total Carbon Footprint for cap_2: 24893.100666666705\n",
      "Total Carbon Footprint for danish_2: 18391.66483333334\n",
      "Total Carbon Footprint for decima_2: 19384.242000000017\n"
     ]
    }
   ],
   "source": [
    "# and the same for the _2 files\n",
    "total_carbon_baseline_2 = baseline_2['carbon_footprint'].sum()\n",
    "total_carbon_cap_2 = cap_2['carbon_footprint'].sum()\n",
    "total_carbon_danish_2 = danish_2['carbon_footprint'].sum()\n",
    "total_carbon_decima_2 = decima_2['carbon_footprint'].sum()\n",
    "\n",
    "# print the results\n",
    "print('Total Carbon Footprint for baseline_2:', total_carbon_baseline_2)\n",
    "print('Total Carbon Footprint for cap_2:', total_carbon_cap_2)\n",
    "print('Total Carbon Footprint for danish_2:', total_carbon_danish_2)\n",
    "print('Total Carbon Footprint for decima_2:', total_carbon_decima_2)"
   ]
  },
  {
   "cell_type": "code",
   "execution_count": 20,
   "metadata": {},
   "outputs": [
    {
     "name": "stdout",
     "output_type": "stream",
     "text": [
      "Total Carbon Footprint for baseline_3: 18747.1571666667\n",
      "Total Carbon Footprint for cap_3: 32051.158499999954\n",
      "Total Carbon Footprint for danish_3: 23611.24216666666\n",
      "Total Carbon Footprint for decima_3: 23764.518500000035\n"
     ]
    }
   ],
   "source": [
    "# and the same for the _3 files\n",
    "total_carbon_baseline_3 = baseline_3['carbon_footprint'].sum()\n",
    "total_carbon_cap_3 = cap_3['carbon_footprint'].sum()\n",
    "total_carbon_danish_3 = danish_3['carbon_footprint'].sum()\n",
    "total_carbon_decima_3 = decima_3['carbon_footprint'].sum()\n",
    "\n",
    "# print the results\n",
    "print('Total Carbon Footprint for baseline_3:', total_carbon_baseline_3)\n",
    "print('Total Carbon Footprint for cap_3:', total_carbon_cap_3)\n",
    "print('Total Carbon Footprint for danish_3:', total_carbon_danish_3)\n",
    "print('Total Carbon Footprint for decima_3:', total_carbon_decima_3)"
   ]
  },
  {
   "cell_type": "code",
   "execution_count": 21,
   "metadata": {},
   "outputs": [
    {
     "name": "stdout",
     "output_type": "stream",
     "text": [
      "Average Carbon Footprint for baseline: 19018.650333333346\n",
      "Average Carbon Footprint for cap: 29619.45350000001\n",
      "Average Carbon Footprint for danish: 23759.608541666676\n",
      "Average Carbon Footprint for decima: 21199.687000000013\n"
     ]
    }
   ],
   "source": [
    "# compute average across all files\n",
    "average_carbon_baseline = (total_carbon_baseline + total_carbon_baseline_1 + total_carbon_baseline_2 + total_carbon_baseline_3) / 4\n",
    "average_carbon_cap = (total_carbon_cap + total_carbon_cap_1 + total_carbon_cap_2 + total_carbon_cap_3) / 4\n",
    "average_carbon_danish = (total_carbon_danish + total_carbon_danish_1 + total_carbon_danish_2 + total_carbon_danish_3) / 4\n",
    "average_carbon_decima = (total_carbon_decima + total_carbon_decima_1 + total_carbon_decima_2 + total_carbon_decima_3) / 4\n",
    "\n",
    "# print the results\n",
    "print('Average Carbon Footprint for baseline:', average_carbon_baseline)\n",
    "print('Average Carbon Footprint for cap:', average_carbon_cap)\n",
    "print('Average Carbon Footprint for danish:', average_carbon_danish)\n",
    "print('Average Carbon Footprint for decima:', average_carbon_decima)"
   ]
  },
  {
   "cell_type": "code",
   "execution_count": 53,
   "metadata": {},
   "outputs": [
    {
     "name": "stdout",
     "output_type": "stream",
     "text": [
      "Total Time for baseline:    0 days 00:16:45.086096\n",
      "Total Time for cap:         0 days 00:19:04.481406\n",
      "Total Time for danish:      0 days 00:17:35.481520\n",
      "Total Time for decima:      0 days 00:24:24.799831\n"
     ]
    }
   ],
   "source": [
    "# for each of the four dataframes, compute the total time\n",
    "# total time is the difference between start_time in the first row and the end_time in the last row\n",
    "# all of these are datetime objects\n",
    "total_time_baseline = baseline_0['end_time'].head(job_num).iloc[-1] - baseline_0['start_time'].head(job_num).iloc[0]\n",
    "total_time_cap = cap_0['end_time'].head(job_num).iloc[-1] - cap_0['start_time'].head(job_num).iloc[0]\n",
    "total_time_danish = danish_0['end_time'].head(job_num).iloc[-1] - danish_0['start_time'].head(job_num).iloc[0]\n",
    "total_time_decima = decima_0['end_time'].head(job_num).iloc[-1] - decima_0['start_time'].head(job_num).iloc[0]\n",
    "\n",
    "# print the results (just the hours, minutes, etc -- days are irrelevant)\n",
    "print('Total Time for baseline:   ', total_time_baseline)\n",
    "print('Total Time for cap:        ', total_time_cap)\n",
    "print('Total Time for danish:     ', total_time_danish)\n",
    "print('Total Time for decima:     ', total_time_decima)"
   ]
  },
  {
   "cell_type": "code",
   "execution_count": 29,
   "metadata": {},
   "outputs": [
    {
     "name": "stdout",
     "output_type": "stream",
     "text": [
      "Total Time for baseline:    0 days 00:16:42.910189\n",
      "Total Time for cap:         0 days 00:23:06.302431\n",
      "Total Time for danish:      0 days 00:17:13.376116\n",
      "Total Time for decima:      0 days 00:19:48.683103\n"
     ]
    }
   ],
   "source": [
    "# do the same time calculation for the _1 files\n",
    "total_time_baseline_1 = baseline_1['end_time'].head(job_num).iloc[-1] - baseline_1['start_time'].head(job_num).iloc[0]\n",
    "total_time_cap_1 = cap_1['end_time'].head(job_num).iloc[-1] - cap_1['start_time'].head(job_num).iloc[0]\n",
    "total_time_danish_1 = danish_1['end_time'].head(job_num).iloc[-1] - danish_1['start_time'].head(job_num).iloc[0]\n",
    "total_time_decima_1 = decima_1['end_time'].head(job_num).iloc[-1] - decima_1['start_time'].head(job_num).iloc[0]\n",
    "\n",
    "# print the results (just the hours, minutes, etc -- days are irrelevant)\n",
    "print('Total Time for baseline:   ', total_time_baseline_1)\n",
    "print('Total Time for cap:        ', total_time_cap_1)\n",
    "print('Total Time for danish:     ', total_time_danish_1)\n",
    "print('Total Time for decima:     ', total_time_decima_1)"
   ]
  },
  {
   "cell_type": "code",
   "execution_count": 30,
   "metadata": {},
   "outputs": [
    {
     "name": "stdout",
     "output_type": "stream",
     "text": [
      "Total Time for baseline:    0 days 00:14:34.225038\n",
      "Total Time for cap:         0 days 00:20:04.764588\n",
      "Total Time for danish:      0 days 00:14:10.323618\n",
      "Total Time for decima:      0 days 00:14:16.985452\n"
     ]
    }
   ],
   "source": [
    "# do the same time calculation for the _2 files\n",
    "total_time_baseline_2 = baseline_2['end_time'].head(job_num).iloc[-1] - baseline_2['start_time'].head(job_num).iloc[0]\n",
    "total_time_cap_2 = cap_2['end_time'].head(job_num).iloc[-1] - cap_2['start_time'].head(job_num).iloc[0]\n",
    "total_time_danish_2 = danish_2['end_time'].head(job_num).iloc[-1] - danish_2['start_time'].head(job_num).iloc[0]\n",
    "total_time_decima_2 = decima_2['end_time'].head(job_num).iloc[-1] - decima_2['start_time'].head(job_num).iloc[0]\n",
    "\n",
    "# print the results (just the hours, minutes, etc -- days are irrelevant)\n",
    "print('Total Time for baseline:   ', total_time_baseline_2)\n",
    "print('Total Time for cap:        ', total_time_cap_2)\n",
    "print('Total Time for danish:     ', total_time_danish_2)\n",
    "print('Total Time for decima:     ', total_time_decima_2)"
   ]
  },
  {
   "cell_type": "code",
   "execution_count": 31,
   "metadata": {},
   "outputs": [
    {
     "name": "stdout",
     "output_type": "stream",
     "text": [
      "Total Time for baseline:    0 days 00:17:47.044000\n",
      "Total Time for cap:         0 days 00:25:04.723214\n",
      "Total Time for danish:      0 days 00:20:57.912028\n",
      "Total Time for decima:      0 days 00:16:54.080508\n"
     ]
    }
   ],
   "source": [
    "# do the same time calculation for the _3 files\n",
    "total_time_baseline_3 = baseline_3['end_time'].head(job_num).iloc[-1] - baseline_3['start_time'].head(job_num).iloc[0]\n",
    "total_time_cap_3 = cap_3['end_time'].head(job_num).iloc[-1] - cap_3['start_time'].head(job_num).iloc[0]\n",
    "total_time_danish_3 = danish_3['end_time'].head(job_num).iloc[-1] - danish_3['start_time'].head(job_num).iloc[0]\n",
    "total_time_decima_3 = decima_3['end_time'].head(job_num).iloc[-1] - decima_3['start_time'].head(job_num).iloc[0]\n",
    "\n",
    "# print the results (just the hours, minutes, etc -- days are irrelevant)\n",
    "print('Total Time for baseline:   ', total_time_baseline_3)\n",
    "print('Total Time for cap:        ', total_time_cap_3)\n",
    "print('Total Time for danish:     ', total_time_danish_3)\n",
    "print('Total Time for decima:     ', total_time_decima_3)"
   ]
  },
  {
   "cell_type": "code",
   "execution_count": 38,
   "metadata": {},
   "outputs": [
    {
     "name": "stdout",
     "output_type": "stream",
     "text": [
      "Average Total Time for baseline: 0 days 00:16:21.393075666\n",
      "Average Total Time for cap: 0 days 00:22:45.263411\n",
      "Average Total Time for danish: 0 days 00:17:27.203920666\n",
      "Average Total Time for decima: 0 days 00:16:59.916354333\n"
     ]
    }
   ],
   "source": [
    "# compute averages \n",
    "average_time_baseline = ( total_time_baseline_1 + total_time_baseline_2 + total_time_baseline_3) / 3\n",
    "average_time_cap = ( total_time_cap_1 + total_time_cap_2 + total_time_cap_3) / 3\n",
    "average_time_danish = ( total_time_danish_1 + total_time_danish_2 + total_time_danish_3) / 3\n",
    "average_time_decima = ( total_time_decima_1 + total_time_decima_2 + total_time_decima_3) / 3\n",
    "\n",
    "# print the results\n",
    "print('Average Total Time for baseline:', average_time_baseline)\n",
    "print('Average Total Time for cap:', average_time_cap)\n",
    "print('Average Total Time for danish:', average_time_danish)\n",
    "print('Average Total Time for decima:', average_time_decima)"
   ]
  },
  {
   "cell_type": "code",
   "execution_count": 39,
   "metadata": {},
   "outputs": [
    {
     "name": "stdout",
     "output_type": "stream",
     "text": [
      "Average Carbon Footprint for baseline: 20283.40950000002\n",
      "Average Carbon Footprint for cap: 28975.270555555577\n",
      "Average Carbon Footprint for danish: 21649.38861111111\n",
      "Average Carbon Footprint for decima: 22661.38316666668\n"
     ]
    }
   ],
   "source": [
    "# compute average across all files\n",
    "average_carbon_baseline = ( total_carbon_baseline_1 + total_carbon_baseline_2 + total_carbon_baseline_3) / 3\n",
    "average_carbon_cap = ( total_carbon_cap_1 + total_carbon_cap_2 + total_carbon_cap_3) / 3\n",
    "average_carbon_danish = ( total_carbon_danish_1 + total_carbon_danish_2 + total_carbon_danish_3) / 3\n",
    "average_carbon_decima = ( total_carbon_decima_1 + total_carbon_decima_2 + total_carbon_decima_3) / 3\n",
    "\n",
    "# print the results\n",
    "print('Average Carbon Footprint for baseline:', average_carbon_baseline)\n",
    "print('Average Carbon Footprint for cap:', average_carbon_cap)\n",
    "print('Average Carbon Footprint for danish:', average_carbon_danish)\n",
    "print('Average Carbon Footprint for decima:', average_carbon_decima)"
   ]
  },
  {
   "cell_type": "code",
   "execution_count": 28,
   "metadata": {},
   "outputs": [
    {
     "data": {
      "text/plain": [
       "<matplotlib.legend.Legend at 0x140271ba0>"
      ]
     },
     "execution_count": 28,
     "metadata": {},
     "output_type": "execute_result"
    },
    {
     "data": {
      "image/png": "[encoded data removed]",
      "text/plain": [
       "<Figure size 640x480 with 1 Axes>"
      ]
     },
     "metadata": {},
     "output_type": "display_data"
    }
   ],
   "source": [
    "# plot the carbon footprint and completion time, normalized to the max of each\n",
    "# bar plot in matplotlib\n",
    "# make sure to label the axes and give a title\n",
    "# save the plot as 'carbon_time_plot.png'\n",
    "\n",
    "import matplotlib.pyplot as plt\n",
    "\n",
    "carbon_data = [total_carbon_baseline, total_carbon_cap, total_carbon_danish, total_carbon_decima]\n",
    "time_data = [total_time_baseline, total_time_cap, total_time_danish, total_time_decima]\n",
    "\n",
    "carbon_data = [x / max(carbon_data) for x in carbon_data]\n",
    "time_data = [x / max(time_data) for x in time_data]\n",
    "\n",
    "fig, ax = plt.subplots()\n",
    "bar_width = 0.35\n",
    "index = np.arange(4)\n",
    "\n",
    "bar1 = ax.bar(index, carbon_data, bar_width, label='Carbon Footprint')\n",
    "bar2 = ax.bar(index + bar_width, time_data, bar_width, label='End-to-end Time')\n",
    "legend = ['Baseline', 'CAP', 'DANISH', 'Decima']\n",
    "ax.set_xlabel('Model')\n",
    "ax.set_ylabel('Normalized Value')\n",
    "ax.set_title('Empirical Experiments (MBP, 20 jobs of SparkTC)')\n",
    "ax.set_xticks(index + bar_width / 2)\n",
    "ax.set_xticklabels(legend)\n",
    "ax.legend()\n"
   ]
  },
  {
   "cell_type": "code",
   "execution_count": null,
   "metadata": {},
   "outputs": [],
   "source": []
  }
 ],
 "metadata": {
  "kernelspec": {
   "display_name": "base",
   "language": "python",
   "name": "python3"
  },
  "language_info": {
   "codemirror_mode": {
    "name": "ipython",
    "version": 3
   },
   "file_extension": ".py",
   "mimetype": "text/x-python",
   "name": "python",
   "nbconvert_exporter": "python",
   "pygments_lexer": "ipython3",
   "version": "3.10.14"
  }
 },
 "nbformat": 4,
 "nbformat_minor": 2
}
